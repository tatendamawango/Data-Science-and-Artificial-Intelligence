{
 "cells": [
  {
   "cell_type": "code",
   "execution_count": 1,
   "id": "18e3832e-d438-4659-878a-180bf8d65cf8",
   "metadata": {
    "scrolled": true
   },
   "outputs": [
    {
     "name": "stdout",
     "output_type": "stream",
     "text": [
      "Looking in indexes: http://172.17.0.1:3143/root/pypi/+simple/\n",
      "Collecting nltk\n",
      "  Using cached http://172.17.0.1:3143/root/pypi/%2Bf/4fa/26829c5b00715/nltk-3.9.1-py3-none-any.whl (1.5 MB)\n",
      "Requirement already satisfied: click in /opt/conda/lib/python3.11/site-packages (from nltk) (8.1.7)\n",
      "Requirement already satisfied: joblib in /opt/conda/lib/python3.11/site-packages (from nltk) (1.3.2)\n",
      "Collecting regex>=2021.8.3 (from nltk)\n",
      "  Using cached http://172.17.0.1:3143/root/pypi/%2Bf/f2a/19f302cd1ce5d/regex-2024.11.6-cp311-cp311-manylinux_2_17_x86_64.manylinux2014_x86_64.whl (792 kB)\n",
      "Requirement already satisfied: tqdm in /opt/conda/lib/python3.11/site-packages (from nltk) (4.66.2)\n",
      "Installing collected packages: regex, nltk\n",
      "Successfully installed nltk-3.9.1 regex-2024.11.6\n",
      "Looking in indexes: http://172.17.0.1:3143/root/pypi/+simple/\n",
      "Collecting spacy\n",
      "  Using cached http://172.17.0.1:3143/root/pypi/%2Bf/05d/8a4cbfdb90049/spacy-3.8.2-cp311-cp311-manylinux_2_17_x86_64.manylinux2014_x86_64.whl (30.6 MB)\n",
      "Collecting spacy-legacy<3.1.0,>=3.0.11 (from spacy)\n",
      "  Using cached http://172.17.0.1:3143/root/pypi/%2Bf/476/e3bd0d05f8c33/spacy_legacy-3.0.12-py2.py3-none-any.whl (29 kB)\n",
      "Collecting spacy-loggers<2.0.0,>=1.0.0 (from spacy)\n",
      "  Using cached http://172.17.0.1:3143/root/pypi/%2Bf/196/284c9c446cc0c/spacy_loggers-1.0.5-py3-none-any.whl (22 kB)\n",
      "Collecting murmurhash<1.1.0,>=0.28.0 (from spacy)\n",
      "  Using cached http://172.17.0.1:3143/root/pypi/%2Bf/5b9/a5109e29d43c7/murmurhash-1.0.11-cp311-cp311-manylinux_2_5_x86_64.manylinux1_x86_64.manylinux_2_17_x86_64.manylinux2014_x86_64.whl (134 kB)\n",
      "Collecting cymem<2.1.0,>=2.0.2 (from spacy)\n",
      "  Using cached http://172.17.0.1:3143/root/pypi/%2Bf/ce6/cb07416c82633/cymem-2.0.10-cp311-cp311-manylinux_2_17_x86_64.manylinux2014_x86_64.whl (218 kB)\n",
      "Collecting preshed<3.1.0,>=3.0.2 (from spacy)\n",
      "  Using cached http://172.17.0.1:3143/root/pypi/%2Bf/51d/0192274aa0616/preshed-3.0.9-cp311-cp311-manylinux_2_5_x86_64.manylinux1_x86_64.manylinux_2_17_x86_64.manylinux2014_x86_64.whl (157 kB)\n",
      "Collecting thinc<8.4.0,>=8.3.0 (from spacy)\n",
      "  Using cached http://172.17.0.1:3143/root/pypi/%2Bf/ed8/8275031dcaadd/thinc-8.3.2-cp311-cp311-manylinux_2_17_x86_64.manylinux2014_x86_64.whl (3.9 MB)\n",
      "Collecting wasabi<1.2.0,>=0.9.1 (from spacy)\n",
      "  Using cached http://172.17.0.1:3143/root/pypi/%2Bf/f76/e16e8f7e79f8c/wasabi-1.1.3-py3-none-any.whl (27 kB)\n",
      "Collecting srsly<3.0.0,>=2.4.3 (from spacy)\n",
      "  Using cached http://172.17.0.1:3143/root/pypi/%2Bf/ace/7ed4a0c20fa54/srsly-2.4.8-cp311-cp311-manylinux_2_17_x86_64.manylinux2014_x86_64.whl (490 kB)\n",
      "Collecting catalogue<2.1.0,>=2.0.6 (from spacy)\n",
      "  Using cached http://172.17.0.1:3143/root/pypi/%2Bf/58c/2de0020aa90f4/catalogue-2.0.10-py3-none-any.whl (17 kB)\n",
      "Collecting weasel<0.5.0,>=0.1.0 (from spacy)\n",
      "  Using cached http://172.17.0.1:3143/root/pypi/%2Bf/241/40a090ea1ac51/weasel-0.4.1-py3-none-any.whl (50 kB)\n",
      "Collecting typer<1.0.0,>=0.3.0 (from spacy)\n",
      "  Using cached http://172.17.0.1:3143/root/pypi/%2Bf/5b5/9580fd925e894/typer-0.13.1-py3-none-any.whl (44 kB)\n",
      "Requirement already satisfied: tqdm<5.0.0,>=4.38.0 in /opt/conda/lib/python3.11/site-packages (from spacy) (4.66.2)\n",
      "Requirement already satisfied: requests<3.0.0,>=2.13.0 in /opt/conda/lib/python3.11/site-packages (from spacy) (2.31.0)\n",
      "Collecting pydantic!=1.8,!=1.8.1,<3.0.0,>=1.7.4 (from spacy)\n",
      "  Using cached http://172.17.0.1:3143/root/pypi/%2Bf/cfb/96e45951117c3/pydantic-2.10.2-py3-none-any.whl (456 kB)\n",
      "Requirement already satisfied: jinja2 in /opt/conda/lib/python3.11/site-packages (from spacy) (3.1.3)\n",
      "Requirement already satisfied: setuptools in /opt/conda/lib/python3.11/site-packages (from spacy) (69.1.1)\n",
      "Requirement already satisfied: packaging>=20.0 in /opt/conda/lib/python3.11/site-packages (from spacy) (23.2)\n",
      "Collecting langcodes<4.0.0,>=3.2.0 (from spacy)\n",
      "  Using cached http://172.17.0.1:3143/root/pypi/%2Bf/853/c69d1a35e0e13/langcodes-3.5.0-py3-none-any.whl (182 kB)\n",
      "Requirement already satisfied: numpy>=1.19.0 in /opt/conda/lib/python3.11/site-packages (from spacy) (1.26.4)\n",
      "Collecting language-data>=1.2 (from langcodes<4.0.0,>=3.2.0->spacy)\n",
      "  Using cached http://172.17.0.1:3143/root/pypi/%2Bf/e2e/e943551b5ae5f/language_data-1.3.0-py3-none-any.whl (5.4 MB)\n",
      "Collecting annotated-types>=0.6.0 (from pydantic!=1.8,!=1.8.1,<3.0.0,>=1.7.4->spacy)\n",
      "  Using cached http://172.17.0.1:3143/root/pypi/%2Bf/1f0/2e8b43a8fbbc3/annotated_types-0.7.0-py3-none-any.whl (13 kB)\n",
      "Collecting pydantic-core==2.27.1 (from pydantic!=1.8,!=1.8.1,<3.0.0,>=1.7.4->spacy)\n",
      "  Using cached http://172.17.0.1:3143/root/pypi/%2Bf/acc/07b2cfc5b8354/pydantic_core-2.27.1-cp311-cp311-manylinux_2_17_x86_64.manylinux2014_x86_64.whl (2.1 MB)\n",
      "Collecting typing-extensions>=4.12.2 (from pydantic!=1.8,!=1.8.1,<3.0.0,>=1.7.4->spacy)\n",
      "  Using cached http://172.17.0.1:3143/root/pypi/%2Bf/04e/5ca0351e0f3f8/typing_extensions-4.12.2-py3-none-any.whl (37 kB)\n",
      "Requirement already satisfied: charset-normalizer<4,>=2 in /opt/conda/lib/python3.11/site-packages (from requests<3.0.0,>=2.13.0->spacy) (3.3.2)\n",
      "Requirement already satisfied: idna<4,>=2.5 in /opt/conda/lib/python3.11/site-packages (from requests<3.0.0,>=2.13.0->spacy) (3.6)\n",
      "Requirement already satisfied: urllib3<3,>=1.21.1 in /opt/conda/lib/python3.11/site-packages (from requests<3.0.0,>=2.13.0->spacy) (2.2.1)\n",
      "Requirement already satisfied: certifi>=2017.4.17 in /opt/conda/lib/python3.11/site-packages (from requests<3.0.0,>=2.13.0->spacy) (2024.2.2)\n",
      "Collecting blis<1.1.0,>=1.0.0 (from thinc<8.4.0,>=8.3.0->spacy)\n",
      "  Using cached http://172.17.0.1:3143/root/pypi/%2Bf/632/580f1d3ff44fb/blis-1.0.1-cp311-cp311-manylinux_2_17_x86_64.manylinux2014_x86_64.whl (9.3 MB)\n",
      "Collecting confection<1.0.0,>=0.0.1 (from thinc<8.4.0,>=8.3.0->spacy)\n",
      "  Using cached http://172.17.0.1:3143/root/pypi/%2Bf/e29/d3c3f8eac06b3/confection-0.1.5-py3-none-any.whl (35 kB)\n",
      "Collecting numpy>=1.19.0 (from spacy)\n",
      "  Using cached http://172.17.0.1:3143/root/pypi/%2Bf/13e/689d772146140/numpy-2.0.2-cp311-cp311-manylinux_2_17_x86_64.manylinux2014_x86_64.whl (19.5 MB)\n",
      "Requirement already satisfied: click>=8.0.0 in /opt/conda/lib/python3.11/site-packages (from typer<1.0.0,>=0.3.0->spacy) (8.1.7)\n",
      "Collecting shellingham>=1.3.0 (from typer<1.0.0,>=0.3.0->spacy)\n",
      "  Using cached http://172.17.0.1:3143/root/pypi/%2Bf/7ec/fff8f2fd72616/shellingham-1.5.4-py2.py3-none-any.whl (9.8 kB)\n",
      "Collecting rich>=10.11.0 (from typer<1.0.0,>=0.3.0->spacy)\n",
      "  Using cached http://172.17.0.1:3143/root/pypi/%2Bf/604/9d5e6ec054bf2/rich-13.9.4-py3-none-any.whl (242 kB)\n",
      "Collecting cloudpathlib<1.0.0,>=0.7.0 (from weasel<0.5.0,>=0.1.0->spacy)\n",
      "  Using cached http://172.17.0.1:3143/root/pypi/%2Bf/7af/3bcefbf73392a/cloudpathlib-0.20.0-py3-none-any.whl (52 kB)\n",
      "Collecting smart-open<8.0.0,>=5.2.1 (from weasel<0.5.0,>=0.1.0->spacy)\n",
      "  Using cached http://172.17.0.1:3143/root/pypi/%2Bf/852/3ed805c12dff3/smart_open-7.0.5-py3-none-any.whl (61 kB)\n",
      "Requirement already satisfied: MarkupSafe>=2.0 in /opt/conda/lib/python3.11/site-packages (from jinja2->spacy) (2.1.5)\n",
      "Collecting marisa-trie>=1.1.0 (from language-data>=1.2->langcodes<4.0.0,>=3.2.0->spacy)\n",
      "  Using cached http://172.17.0.1:3143/root/pypi/%2Bf/7cc/a7f96236ffdbf/marisa_trie-1.2.1-cp311-cp311-manylinux_2_17_x86_64.manylinux2014_x86_64.whl (1.4 MB)\n",
      "Collecting markdown-it-py>=2.2.0 (from rich>=10.11.0->typer<1.0.0,>=0.3.0->spacy)\n",
      "  Using cached http://172.17.0.1:3143/root/pypi/%2Bf/355/216845c60bd96/markdown_it_py-3.0.0-py3-none-any.whl (87 kB)\n",
      "Requirement already satisfied: pygments<3.0.0,>=2.13.0 in /opt/conda/lib/python3.11/site-packages (from rich>=10.11.0->typer<1.0.0,>=0.3.0->spacy) (2.17.2)\n",
      "Requirement already satisfied: wrapt in /opt/conda/lib/python3.11/site-packages (from smart-open<8.0.0,>=5.2.1->weasel<0.5.0,>=0.1.0->spacy) (1.14.1)\n",
      "Collecting mdurl~=0.1 (from markdown-it-py>=2.2.0->rich>=10.11.0->typer<1.0.0,>=0.3.0->spacy)\n",
      "  Using cached http://172.17.0.1:3143/root/pypi/%2Bf/840/08a41e51615a4/mdurl-0.1.2-py3-none-any.whl (10.0 kB)\n",
      "Installing collected packages: cymem, wasabi, typing-extensions, spacy-loggers, spacy-legacy, smart-open, shellingham, numpy, murmurhash, mdurl, marisa-trie, cloudpathlib, catalogue, annotated-types, srsly, pydantic-core, preshed, markdown-it-py, language-data, blis, rich, pydantic, langcodes, typer, confection, weasel, thinc, spacy\n",
      "  Attempting uninstall: typing-extensions\n",
      "    Found existing installation: typing_extensions 4.10.0\n",
      "    Uninstalling typing_extensions-4.10.0:\n",
      "      Successfully uninstalled typing_extensions-4.10.0\n",
      "  Attempting uninstall: numpy\n",
      "    Found existing installation: numpy 1.26.4\n",
      "    Uninstalling numpy-1.26.4:\n",
      "      Successfully uninstalled numpy-1.26.4\n",
      "\u001b[31mERROR: pip's dependency resolver does not currently take into account all the packages that are installed. This behaviour is the source of the following dependency conflicts.\n",
      "contourpy 1.2.0 requires numpy<2.0,>=1.20, but you have numpy 2.0.2 which is incompatible.\n",
      "matplotlib 3.8.3 requires numpy<2,>=1.21, but you have numpy 2.0.2 which is incompatible.\n",
      "numba 0.59.0 requires numpy<1.27,>=1.22, but you have numpy 2.0.2 which is incompatible.\n",
      "pandas 2.2.1 requires numpy<2,>=1.23.2; python_version == \"3.11\", but you have numpy 2.0.2 which is incompatible.\n",
      "pyarrow 15.0.0 requires numpy<2,>=1.16.6, but you have numpy 2.0.2 which is incompatible.\n",
      "scikit-learn 1.4.1.post1 requires numpy<2.0,>=1.19.5, but you have numpy 2.0.2 which is incompatible.\n",
      "scipy 1.12.0 requires numpy<1.29.0,>=1.22.4, but you have numpy 2.0.2 which is incompatible.\n",
      "statsmodels 0.14.1 requires numpy<2,>=1.18, but you have numpy 2.0.2 which is incompatible.\n",
      "tensorflow 2.15.0 requires numpy<2.0.0,>=1.23.5, but you have numpy 2.0.2 which is incompatible.\n",
      "torch 2.2.1 requires nvidia-cublas-cu12==12.1.3.1; platform_system == \"Linux\" and platform_machine == \"x86_64\", but you have nvidia-cublas-cu12 12.3.4.1 which is incompatible.\n",
      "torch 2.2.1 requires nvidia-cuda-cupti-cu12==12.1.105; platform_system == \"Linux\" and platform_machine == \"x86_64\", but you have nvidia-cuda-cupti-cu12 12.3.101 which is incompatible.\n",
      "torch 2.2.1 requires nvidia-cuda-nvrtc-cu12==12.1.105; platform_system == \"Linux\" and platform_machine == \"x86_64\", but you have nvidia-cuda-nvrtc-cu12 12.3.107 which is incompatible.\n",
      "torch 2.2.1 requires nvidia-cuda-runtime-cu12==12.1.105; platform_system == \"Linux\" and platform_machine == \"x86_64\", but you have nvidia-cuda-runtime-cu12 12.3.101 which is incompatible.\n",
      "torch 2.2.1 requires nvidia-cudnn-cu12==8.9.2.26; platform_system == \"Linux\" and platform_machine == \"x86_64\", but you have nvidia-cudnn-cu12 8.9.7.29 which is incompatible.\n",
      "torch 2.2.1 requires nvidia-cufft-cu12==11.0.2.54; platform_system == \"Linux\" and platform_machine == \"x86_64\", but you have nvidia-cufft-cu12 11.0.12.1 which is incompatible.\n",
      "torch 2.2.1 requires nvidia-curand-cu12==10.3.2.106; platform_system == \"Linux\" and platform_machine == \"x86_64\", but you have nvidia-curand-cu12 10.3.4.107 which is incompatible.\n",
      "torch 2.2.1 requires nvidia-cusolver-cu12==11.4.5.107; platform_system == \"Linux\" and platform_machine == \"x86_64\", but you have nvidia-cusolver-cu12 11.5.4.101 which is incompatible.\n",
      "torch 2.2.1 requires nvidia-cusparse-cu12==12.1.0.106; platform_system == \"Linux\" and platform_machine == \"x86_64\", but you have nvidia-cusparse-cu12 12.2.0.103 which is incompatible.\n",
      "torch 2.2.1 requires nvidia-nvtx-cu12==12.1.105; platform_system == \"Linux\" and platform_machine == \"x86_64\", but you have nvidia-nvtx-cu12 12.3.101 which is incompatible.\u001b[0m\u001b[31m\n",
      "\u001b[0mSuccessfully installed annotated-types-0.7.0 blis-1.0.1 catalogue-2.0.10 cloudpathlib-0.20.0 confection-0.1.5 cymem-2.0.10 langcodes-3.5.0 language-data-1.3.0 marisa-trie-1.2.1 markdown-it-py-3.0.0 mdurl-0.1.2 murmurhash-1.0.11 numpy-2.0.2 preshed-3.0.9 pydantic-2.10.2 pydantic-core-2.27.1 rich-13.9.4 shellingham-1.5.4 smart-open-7.0.5 spacy-3.8.2 spacy-legacy-3.0.12 spacy-loggers-1.0.5 srsly-2.4.8 thinc-8.3.2 typer-0.13.1 typing-extensions-4.12.2 wasabi-1.1.3 weasel-0.4.1\n",
      "Looking in indexes: http://172.17.0.1:3143/root/pypi/+simple/\n",
      "Collecting gensim\n",
      "  Using cached http://172.17.0.1:3143/root/pypi/%2Bf/d66/2bf96e3d741b6/gensim-4.3.3-cp311-cp311-manylinux_2_17_x86_64.manylinux2014_x86_64.whl (26.7 MB)\n",
      "Collecting numpy<2.0,>=1.18.5 (from gensim)\n",
      "  Using cached http://172.17.0.1:3143/root/pypi/%2Bf/666/dbfb6ec68962c/numpy-1.26.4-cp311-cp311-manylinux_2_17_x86_64.manylinux2014_x86_64.whl (18.3 MB)\n",
      "Requirement already satisfied: scipy<1.14.0,>=1.7.0 in /opt/conda/lib/python3.11/site-packages (from gensim) (1.12.0)\n",
      "Requirement already satisfied: smart-open>=1.8.1 in /opt/conda/lib/python3.11/site-packages (from gensim) (7.0.5)\n",
      "Requirement already satisfied: wrapt in /opt/conda/lib/python3.11/site-packages (from smart-open>=1.8.1->gensim) (1.14.1)\n",
      "Installing collected packages: numpy, gensim\n",
      "  Attempting uninstall: numpy\n",
      "    Found existing installation: numpy 2.0.2\n",
      "    Uninstalling numpy-2.0.2:\n",
      "      Successfully uninstalled numpy-2.0.2\n",
      "\u001b[31mERROR: pip's dependency resolver does not currently take into account all the packages that are installed. This behaviour is the source of the following dependency conflicts.\n",
      "blis 1.0.1 requires numpy<3.0.0,>=2.0.0, but you have numpy 1.26.4 which is incompatible.\n",
      "thinc 8.3.2 requires numpy<2.1.0,>=2.0.0; python_version >= \"3.9\", but you have numpy 1.26.4 which is incompatible.\u001b[0m\u001b[31m\n",
      "\u001b[0mSuccessfully installed gensim-4.3.3 numpy-1.26.4\n",
      "Looking in indexes: http://172.17.0.1:3143/root/pypi/+simple/\n",
      "Collecting pyLDAvis\n",
      "  Using cached http://172.17.0.1:3143/root/pypi/%2Bf/8a5/25b187d2d0fad/pyLDAvis-3.4.1-py3-none-any.whl (2.6 MB)\n",
      "Requirement already satisfied: numpy>=1.24.2 in /opt/conda/lib/python3.11/site-packages (from pyLDAvis) (1.26.4)\n",
      "Requirement already satisfied: scipy in /opt/conda/lib/python3.11/site-packages (from pyLDAvis) (1.12.0)\n",
      "Requirement already satisfied: pandas>=2.0.0 in /opt/conda/lib/python3.11/site-packages (from pyLDAvis) (2.2.1)\n",
      "Requirement already satisfied: joblib>=1.2.0 in /opt/conda/lib/python3.11/site-packages (from pyLDAvis) (1.3.2)\n",
      "Requirement already satisfied: jinja2 in /opt/conda/lib/python3.11/site-packages (from pyLDAvis) (3.1.3)\n",
      "Requirement already satisfied: numexpr in /opt/conda/lib/python3.11/site-packages (from pyLDAvis) (2.9.0)\n",
      "Collecting funcy (from pyLDAvis)\n",
      "  Using cached http://172.17.0.1:3143/root/pypi/%2Bf/53d/f23c8bb1651b1/funcy-2.0-py2.py3-none-any.whl (30 kB)\n",
      "Requirement already satisfied: scikit-learn>=1.0.0 in /opt/conda/lib/python3.11/site-packages (from pyLDAvis) (1.4.1.post1)\n",
      "Requirement already satisfied: gensim in /opt/conda/lib/python3.11/site-packages (from pyLDAvis) (4.3.3)\n",
      "Requirement already satisfied: setuptools in /opt/conda/lib/python3.11/site-packages (from pyLDAvis) (69.1.1)\n",
      "Requirement already satisfied: python-dateutil>=2.8.2 in /opt/conda/lib/python3.11/site-packages (from pandas>=2.0.0->pyLDAvis) (2.9.0)\n",
      "Requirement already satisfied: pytz>=2020.1 in /opt/conda/lib/python3.11/site-packages (from pandas>=2.0.0->pyLDAvis) (2024.1)\n",
      "Requirement already satisfied: tzdata>=2022.7 in /opt/conda/lib/python3.11/site-packages (from pandas>=2.0.0->pyLDAvis) (2024.1)\n",
      "Requirement already satisfied: threadpoolctl>=2.0.0 in /opt/conda/lib/python3.11/site-packages (from scikit-learn>=1.0.0->pyLDAvis) (3.3.0)\n",
      "Requirement already satisfied: smart-open>=1.8.1 in /opt/conda/lib/python3.11/site-packages (from gensim->pyLDAvis) (7.0.5)\n",
      "Requirement already satisfied: MarkupSafe>=2.0 in /opt/conda/lib/python3.11/site-packages (from jinja2->pyLDAvis) (2.1.5)\n",
      "Requirement already satisfied: six>=1.5 in /opt/conda/lib/python3.11/site-packages (from python-dateutil>=2.8.2->pandas>=2.0.0->pyLDAvis) (1.16.0)\n",
      "Requirement already satisfied: wrapt in /opt/conda/lib/python3.11/site-packages (from smart-open>=1.8.1->gensim->pyLDAvis) (1.14.1)\n",
      "Installing collected packages: funcy, pyLDAvis\n",
      "Successfully installed funcy-2.0 pyLDAvis-3.4.1\n"
     ]
    }
   ],
   "source": [
    "!pip install nltk\n",
    "!pip install spacy\n",
    "!pip install gensim\n",
    "!pip install pyLDAvis\n",
    "# !pip install pandas==1.3.1 #New versions of pandas will produce errors in the code below :)"
   ]
  },
  {
   "cell_type": "code",
   "execution_count": 2,
   "id": "fbca64b5-171a-494d-9729-d32375b8b609",
   "metadata": {
    "scrolled": true
   },
   "outputs": [
    {
     "name": "stdout",
     "output_type": "stream",
     "text": [
      "Looking in indexes: http://172.17.0.1:3143/root/pypi/+simple/\n",
      "Collecting en-core-web-sm==3.8.0\n",
      "  Downloading https://github.com/explosion/spacy-models/releases/download/en_core_web_sm-3.8.0/en_core_web_sm-3.8.0-py3-none-any.whl (12.8 MB)\n",
      "\u001b[2K     \u001b[90m━━━━━━━━━━━━━━━━━━━━━━━━━━━━━━━━━━━━━━━━\u001b[0m \u001b[32m12.8/12.8 MB\u001b[0m \u001b[31m44.0 MB/s\u001b[0m eta \u001b[36m0:00:00\u001b[0m00:01\u001b[0m0:01\u001b[0m\n",
      "\u001b[?25hInstalling collected packages: en-core-web-sm\n",
      "Successfully installed en-core-web-sm-3.8.0\n",
      "\u001b[38;5;2m✔ Download and installation successful\u001b[0m\n",
      "You can now load the package via spacy.load('en_core_web_sm')\n"
     ]
    }
   ],
   "source": [
    "!python -m spacy download en_core_web_sm"
   ]
  },
  {
   "cell_type": "code",
   "execution_count": 3,
   "id": "25fe5dae-ad96-4a0f-a47e-5d9929fc6cfe",
   "metadata": {
    "scrolled": true
   },
   "outputs": [
    {
     "name": "stderr",
     "output_type": "stream",
     "text": [
      "[nltk_data] Downloading package punkt to /home/tatmaw/nltk_data...\n",
      "[nltk_data]   Package punkt is already up-to-date!\n",
      "[nltk_data] Downloading package stopwords to /home/tatmaw/nltk_data...\n",
      "[nltk_data]   Package stopwords is already up-to-date!\n"
     ]
    },
    {
     "data": {
      "text/plain": [
       "True"
      ]
     },
     "execution_count": 3,
     "metadata": {},
     "output_type": "execute_result"
    }
   ],
   "source": [
    "import nltk\n",
    "nltk.download('punkt')\n",
    "nltk.download('stopwords')"
   ]
  },
  {
   "cell_type": "code",
   "execution_count": 4,
   "id": "72e95f8b-8e84-4cc2-a783-c1d2d1e095ba",
   "metadata": {},
   "outputs": [],
   "source": [
    "import re\n",
    "import numpy as np\n",
    "import pandas as pd\n",
    "from pprint import pprint\n",
    "\n",
    "# Gensim\n",
    "import gensim\n",
    "import gensim.corpora as corpora\n",
    "from gensim.utils import simple_preprocess\n",
    "from gensim.models import CoherenceModel\n",
    "from nltk.corpus import stopwords\n",
    "from nltk.tokenize import word_tokenize\n",
    "from gensim.models import Phrases\n",
    "from gensim.models.phrases import Phraser\n",
    "\n",
    "# spacy for lemmatization\n",
    "import spacy\n",
    "\n",
    "# Plotting tools\n",
    "import pyLDAvis\n",
    "import pyLDAvis.gensim_models  # don't skip this\n",
    "import matplotlib.pyplot as plt\n",
    "%matplotlib inline\n",
    "\n",
    "# Enable logging for gensim - optional\n",
    "import logging\n",
    "logging.basicConfig(format='%(asctime)s : %(levelname)s : %(message)s', level=logging.ERROR)\n",
    "\n",
    "import warnings\n",
    "warnings.filterwarnings(\"ignore\",category=DeprecationWarning)"
   ]
  },
  {
   "cell_type": "code",
   "execution_count": 5,
   "id": "691842d4-350d-4b01-8afb-2d4dede47633",
   "metadata": {},
   "outputs": [],
   "source": [
    "file_path = \"news_data.csv\"\n",
    "news_data = pd.read_csv(file_path)"
   ]
  },
  {
   "cell_type": "code",
   "execution_count": 6,
   "id": "bf005b05-ca76-488a-8a13-4ce7d8c557a4",
   "metadata": {},
   "outputs": [],
   "source": [
    "# Drop rows with missing titles\n",
    "news_data = news_data.dropna(subset=['title']).reset_index(drop=True)\n",
    "\n",
    "# Initialize stopwords and spaCy model\n",
    "stop_words = set(stopwords.words('english'))\n",
    "nlp = spacy.load(\"en_core_web_sm\", disable=['parser', 'ner'])"
   ]
  },
  {
   "cell_type": "code",
   "execution_count": 7,
   "id": "c7e57e8c-b904-47a4-9bc9-fcb9221cab44",
   "metadata": {},
   "outputs": [
    {
     "data": {
      "text/html": [
       "<div>\n",
       "<style scoped>\n",
       "    .dataframe tbody tr th:only-of-type {\n",
       "        vertical-align: middle;\n",
       "    }\n",
       "\n",
       "    .dataframe tbody tr th {\n",
       "        vertical-align: top;\n",
       "    }\n",
       "\n",
       "    .dataframe thead th {\n",
       "        text-align: right;\n",
       "    }\n",
       "</style>\n",
       "<table border=\"1\" class=\"dataframe\">\n",
       "  <thead>\n",
       "    <tr style=\"text-align: right;\">\n",
       "      <th></th>\n",
       "      <th>id</th>\n",
       "      <th>title</th>\n",
       "      <th>author</th>\n",
       "      <th>text</th>\n",
       "      <th>label</th>\n",
       "    </tr>\n",
       "  </thead>\n",
       "  <tbody>\n",
       "    <tr>\n",
       "      <th>0</th>\n",
       "      <td>0</td>\n",
       "      <td>House Dem Aide: We Didn’t Even See Comey’s Let...</td>\n",
       "      <td>Darrell Lucus</td>\n",
       "      <td>House Dem Aide: We Didn’t Even See Comey’s Let...</td>\n",
       "      <td>1</td>\n",
       "    </tr>\n",
       "    <tr>\n",
       "      <th>1</th>\n",
       "      <td>1</td>\n",
       "      <td>FLYNN: Hillary Clinton, Big Woman on Campus - ...</td>\n",
       "      <td>Daniel J. Flynn</td>\n",
       "      <td>Ever get the feeling your life circles the rou...</td>\n",
       "      <td>0</td>\n",
       "    </tr>\n",
       "    <tr>\n",
       "      <th>2</th>\n",
       "      <td>2</td>\n",
       "      <td>Why the Truth Might Get You Fired</td>\n",
       "      <td>Consortiumnews.com</td>\n",
       "      <td>Why the Truth Might Get You Fired October 29, ...</td>\n",
       "      <td>1</td>\n",
       "    </tr>\n",
       "    <tr>\n",
       "      <th>3</th>\n",
       "      <td>3</td>\n",
       "      <td>15 Civilians Killed In Single US Airstrike Hav...</td>\n",
       "      <td>Jessica Purkiss</td>\n",
       "      <td>Videos 15 Civilians Killed In Single US Airstr...</td>\n",
       "      <td>1</td>\n",
       "    </tr>\n",
       "    <tr>\n",
       "      <th>4</th>\n",
       "      <td>4</td>\n",
       "      <td>Iranian woman jailed for fictional unpublished...</td>\n",
       "      <td>Howard Portnoy</td>\n",
       "      <td>Print \\nAn Iranian woman has been sentenced to...</td>\n",
       "      <td>1</td>\n",
       "    </tr>\n",
       "    <tr>\n",
       "      <th>...</th>\n",
       "      <td>...</td>\n",
       "      <td>...</td>\n",
       "      <td>...</td>\n",
       "      <td>...</td>\n",
       "      <td>...</td>\n",
       "    </tr>\n",
       "    <tr>\n",
       "      <th>20237</th>\n",
       "      <td>20795</td>\n",
       "      <td>Rapper T.I.: Trump a ’Poster Child For White S...</td>\n",
       "      <td>Jerome Hudson</td>\n",
       "      <td>Rapper T. I. unloaded on black celebrities who...</td>\n",
       "      <td>0</td>\n",
       "    </tr>\n",
       "    <tr>\n",
       "      <th>20238</th>\n",
       "      <td>20796</td>\n",
       "      <td>N.F.L. Playoffs: Schedule, Matchups and Odds -...</td>\n",
       "      <td>Benjamin Hoffman</td>\n",
       "      <td>When the Green Bay Packers lost to the Washing...</td>\n",
       "      <td>0</td>\n",
       "    </tr>\n",
       "    <tr>\n",
       "      <th>20239</th>\n",
       "      <td>20797</td>\n",
       "      <td>Macy’s Is Said to Receive Takeover Approach by...</td>\n",
       "      <td>Michael J. de la Merced and Rachel Abrams</td>\n",
       "      <td>The Macy’s of today grew from the union of sev...</td>\n",
       "      <td>0</td>\n",
       "    </tr>\n",
       "    <tr>\n",
       "      <th>20240</th>\n",
       "      <td>20798</td>\n",
       "      <td>NATO, Russia To Hold Parallel Exercises In Bal...</td>\n",
       "      <td>Alex Ansary</td>\n",
       "      <td>NATO, Russia To Hold Parallel Exercises In Bal...</td>\n",
       "      <td>1</td>\n",
       "    </tr>\n",
       "    <tr>\n",
       "      <th>20241</th>\n",
       "      <td>20799</td>\n",
       "      <td>What Keeps the F-35 Alive</td>\n",
       "      <td>David Swanson</td>\n",
       "      <td>David Swanson is an author, activist, journa...</td>\n",
       "      <td>1</td>\n",
       "    </tr>\n",
       "  </tbody>\n",
       "</table>\n",
       "<p>20242 rows × 5 columns</p>\n",
       "</div>"
      ],
      "text/plain": [
       "          id                                              title  \\\n",
       "0          0  House Dem Aide: We Didn’t Even See Comey’s Let...   \n",
       "1          1  FLYNN: Hillary Clinton, Big Woman on Campus - ...   \n",
       "2          2                  Why the Truth Might Get You Fired   \n",
       "3          3  15 Civilians Killed In Single US Airstrike Hav...   \n",
       "4          4  Iranian woman jailed for fictional unpublished...   \n",
       "...      ...                                                ...   \n",
       "20237  20795  Rapper T.I.: Trump a ’Poster Child For White S...   \n",
       "20238  20796  N.F.L. Playoffs: Schedule, Matchups and Odds -...   \n",
       "20239  20797  Macy’s Is Said to Receive Takeover Approach by...   \n",
       "20240  20798  NATO, Russia To Hold Parallel Exercises In Bal...   \n",
       "20241  20799                          What Keeps the F-35 Alive   \n",
       "\n",
       "                                          author  \\\n",
       "0                                  Darrell Lucus   \n",
       "1                                Daniel J. Flynn   \n",
       "2                             Consortiumnews.com   \n",
       "3                                Jessica Purkiss   \n",
       "4                                 Howard Portnoy   \n",
       "...                                          ...   \n",
       "20237                              Jerome Hudson   \n",
       "20238                           Benjamin Hoffman   \n",
       "20239  Michael J. de la Merced and Rachel Abrams   \n",
       "20240                                Alex Ansary   \n",
       "20241                              David Swanson   \n",
       "\n",
       "                                                    text  label  \n",
       "0      House Dem Aide: We Didn’t Even See Comey’s Let...      1  \n",
       "1      Ever get the feeling your life circles the rou...      0  \n",
       "2      Why the Truth Might Get You Fired October 29, ...      1  \n",
       "3      Videos 15 Civilians Killed In Single US Airstr...      1  \n",
       "4      Print \\nAn Iranian woman has been sentenced to...      1  \n",
       "...                                                  ...    ...  \n",
       "20237  Rapper T. I. unloaded on black celebrities who...      0  \n",
       "20238  When the Green Bay Packers lost to the Washing...      0  \n",
       "20239  The Macy’s of today grew from the union of sev...      0  \n",
       "20240  NATO, Russia To Hold Parallel Exercises In Bal...      1  \n",
       "20241    David Swanson is an author, activist, journa...      1  \n",
       "\n",
       "[20242 rows x 5 columns]"
      ]
     },
     "execution_count": 7,
     "metadata": {},
     "output_type": "execute_result"
    }
   ],
   "source": [
    "news_data"
   ]
  },
  {
   "cell_type": "code",
   "execution_count": 8,
   "id": "441dc241-5471-4c16-a27b-e3fbe17d57e0",
   "metadata": {},
   "outputs": [
    {
     "data": {
      "text/plain": [
       "'2.2.1'"
      ]
     },
     "execution_count": 8,
     "metadata": {},
     "output_type": "execute_result"
    }
   ],
   "source": [
    "pd.__version__"
   ]
  },
  {
   "cell_type": "code",
   "execution_count": 9,
   "id": "4f035784-740a-4f38-b48f-735e2a1abf66",
   "metadata": {},
   "outputs": [
    {
     "name": "stderr",
     "output_type": "stream",
     "text": [
      "[nltk_data] Downloading package punkt_tab to /home/tatmaw/nltk_data...\n",
      "[nltk_data]   Package punkt_tab is already up-to-date!\n"
     ]
    },
    {
     "data": {
      "text/plain": [
       "True"
      ]
     },
     "execution_count": 9,
     "metadata": {},
     "output_type": "execute_result"
    }
   ],
   "source": [
    "nltk.download('punkt_tab')"
   ]
  },
  {
   "cell_type": "code",
   "execution_count": 10,
   "id": "3cddd697-b0cb-4dd9-aeb5-41da73cc360d",
   "metadata": {},
   "outputs": [
    {
     "name": "stdout",
     "output_type": "stream",
     "text": [
      "Preprocessed data saved to preprocessed_news_data.csv\n"
     ]
    }
   ],
   "source": [
    "# Define text preprocessing functions\n",
    "def clean_text(text):\n",
    "    \"\"\"\n",
    "    Remove punctuation, convert to lowercase, and clean text data.\n",
    "    \"\"\"\n",
    "    text = re.sub(r'\\s+', ' ', text)  # Remove extra spaces\n",
    "    text = re.sub(r\"[^a-zA-Z0-9]\", \" \", text)  # Remove special characters\n",
    "    text = text.lower()  # Convert to lowercase\n",
    "    return text\n",
    "\n",
    "def tokenize_and_remove_stopwords(text):\n",
    "    \"\"\"\n",
    "    Tokenize the text and remove stopwords.\n",
    "    \"\"\"\n",
    "    tokens = word_tokenize(text)\n",
    "    tokens = [word for word in tokens if word not in stop_words and len(word) > 2]\n",
    "    return tokens\n",
    "\n",
    "def lemmatize_tokens(tokens):\n",
    "    \"\"\"\n",
    "    Lemmatize tokens using spaCy.\n",
    "    \"\"\"\n",
    "    doc = nlp(\" \".join(tokens))\n",
    "    return [token.lemma_ for token in doc if token.pos_ in ['NOUN', 'ADJ', 'VERB', 'ADV']]\n",
    "\n",
    "# Preprocess titles\n",
    "def preprocess_title(title):\n",
    "    \"\"\"\n",
    "    Full preprocessing pipeline for a single title.\n",
    "    \"\"\"\n",
    "    cleaned = clean_text(title)\n",
    "    tokens = tokenize_and_remove_stopwords(cleaned)\n",
    "    lemmatized = lemmatize_tokens(tokens)\n",
    "    return lemmatized\n",
    "\n",
    "# Apply preprocessing to all titles\n",
    "news_data['processed_title'] = news_data['title'].apply(preprocess_title)\n",
    "\n",
    "# Create bigrams and trigrams\n",
    "bigram = Phrases(news_data['processed_title'], min_count=5, threshold=100)\n",
    "trigram = Phrases(bigram[news_data['processed_title']], threshold=100)\n",
    "bigram_mod = Phraser(bigram)\n",
    "trigram_mod = Phraser(trigram)\n",
    "\n",
    "def make_bigrams(texts):\n",
    "    \"\"\"\n",
    "    Apply bigram model to tokenized texts.\n",
    "    \"\"\"\n",
    "    return [bigram_mod[doc] for doc in texts]\n",
    "\n",
    "def make_trigrams(texts):\n",
    "    \"\"\"\n",
    "    Apply trigram model to tokenized texts.\n",
    "    \"\"\"\n",
    "    return [trigram_mod[bigram_mod[doc]] for doc in texts]\n",
    "\n",
    "# Apply bigram and trigram models\n",
    "news_data['processed_title'] = make_bigrams(news_data['processed_title'])\n",
    "news_data['processed_title'] = make_trigrams(news_data['processed_title'])\n",
    "\n",
    "# Save processed data to a new file\n",
    "output_file = 'preprocessed_news_data.csv'\n",
    "news_data.to_csv(output_file, index=False)\n",
    "\n",
    "# Output success message\n",
    "print(f\"Preprocessed data saved to {output_file}\")"
   ]
  },
  {
   "cell_type": "code",
   "execution_count": 11,
   "id": "f2601121-d288-4c4b-b14a-8e8c89a329ad",
   "metadata": {},
   "outputs": [
    {
     "name": "stdout",
     "output_type": "stream",
     "text": [
      "sample title \n",
      "['sample', 'title']\n"
     ]
    }
   ],
   "source": [
    "print(clean_text(\"Sample title!\"))\n",
    "print(tokenize_and_remove_stopwords(clean_text(\"Sample title!\")))"
   ]
  },
  {
   "cell_type": "code",
   "execution_count": 12,
   "id": "77160736-04ef-41c0-8ed9-e3441106cdcc",
   "metadata": {},
   "outputs": [
    {
     "name": "stdout",
     "output_type": "stream",
     "text": [
      "          id                                              title  \\\n",
      "0          0  House Dem Aide: We Didn’t Even See Comey’s Let...   \n",
      "1          1  FLYNN: Hillary Clinton, Big Woman on Campus - ...   \n",
      "2          2                  Why the Truth Might Get You Fired   \n",
      "3          3  15 Civilians Killed In Single US Airstrike Hav...   \n",
      "4          4  Iranian woman jailed for fictional unpublished...   \n",
      "...      ...                                                ...   \n",
      "20237  20795  Rapper T.I.: Trump a ’Poster Child For White S...   \n",
      "20238  20796  N.F.L. Playoffs: Schedule, Matchups and Odds -...   \n",
      "20239  20797  Macy’s Is Said to Receive Takeover Approach by...   \n",
      "20240  20798  NATO, Russia To Hold Parallel Exercises In Bal...   \n",
      "20241  20799                          What Keeps the F-35 Alive   \n",
      "\n",
      "                                          author  \\\n",
      "0                                  Darrell Lucus   \n",
      "1                                Daniel J. Flynn   \n",
      "2                             Consortiumnews.com   \n",
      "3                                Jessica Purkiss   \n",
      "4                                 Howard Portnoy   \n",
      "...                                          ...   \n",
      "20237                              Jerome Hudson   \n",
      "20238                           Benjamin Hoffman   \n",
      "20239  Michael J. de la Merced and Rachel Abrams   \n",
      "20240                                Alex Ansary   \n",
      "20241                              David Swanson   \n",
      "\n",
      "                                                    text  label  \\\n",
      "0      House Dem Aide: We Didn’t Even See Comey’s Let...      1   \n",
      "1      Ever get the feeling your life circles the rou...      0   \n",
      "2      Why the Truth Might Get You Fired October 29, ...      1   \n",
      "3      Videos 15 Civilians Killed In Single US Airstr...      1   \n",
      "4      Print \\nAn Iranian woman has been sentenced to...      1   \n",
      "...                                                  ...    ...   \n",
      "20237  Rapper T. I. unloaded on black celebrities who...      0   \n",
      "20238  When the Green Bay Packers lost to the Washing...      0   \n",
      "20239  The Macy’s of today grew from the union of sev...      0   \n",
      "20240  NATO, Russia To Hold Parallel Exercises In Bal...      1   \n",
      "20241    David Swanson is an author, activist, journa...      1   \n",
      "\n",
      "                                         processed_title  \n",
      "0                               [aide, even, see, tweet]  \n",
      "1                             [woman, campus, breitbart]  \n",
      "2                                     [truth, get, fire]  \n",
      "3          [civilian, kill, single, airstrike, identify]  \n",
      "4      [iranian, woman, jail, fictional, unpublished,...  \n",
      "...                                                  ...  \n",
      "20237           [trump, poster, child, white, supremacy]  \n",
      "20238                  [playoff, schedule, matchup, odd]  \n",
      "20239                 [say, receive, takeover, approach]  \n",
      "20240                 [hold, parallel, exercise, balkan]  \n",
      "20241                                      [keep, alive]  \n",
      "\n",
      "[20242 rows x 6 columns]\n"
     ]
    }
   ],
   "source": [
    "print(news_data)"
   ]
  },
  {
   "cell_type": "code",
   "execution_count": 13,
   "id": "c1b65dc1-78b4-46eb-97e9-fc033f0fc7ed",
   "metadata": {},
   "outputs": [],
   "source": [
    "import pandas as pd\n",
    "news_data = pd.read_csv('preprocessed_news_data.csv')"
   ]
  },
  {
   "cell_type": "code",
   "execution_count": 14,
   "id": "ab23e8a5-1484-4928-815d-8a850757aa33",
   "metadata": {},
   "outputs": [
    {
     "name": "stdout",
     "output_type": "stream",
     "text": [
      "Topic 0: 0.024*\"war\" + 0.016*\"report\" + 0.014*\"open\" + 0.012*\"border\" + 0.012*\"military\" + 0.011*\"crime\" + 0.010*\"breitbart\" + 0.010*\"question\" + 0.009*\"raise\" + 0.008*\"need\"\n",
      "Topic 1: 0.023*\"new\" + 0.022*\"email\" + 0.016*\"election\" + 0.014*\"right\" + 0.011*\"break\" + 0.011*\"expose\" + 0.011*\"news\" + 0.011*\"comment\" + 0.011*\"video\" + 0.010*\"investigation\"\n",
      "Topic 2: 0.016*\"wikileak\" + 0.015*\"campaign\" + 0.014*\"lose\" + 0.014*\"tell\" + 0.012*\"breitbart\" + 0.010*\"email\" + 0.010*\"election\" + 0.009*\"shoot\" + 0.009*\"presidential\" + 0.009*\"bill\"\n",
      "Topic 3: 0.022*\"say\" + 0.021*\"go\" + 0.021*\"life\" + 0.016*\"face\" + 0.015*\"year\" + 0.013*\"breitbart\" + 0.011*\"leak\" + 0.011*\"let\" + 0.010*\"debate\" + 0.010*\"look\"\n",
      "Topic 4: 0.021*\"vote\" + 0.020*\"want\" + 0.016*\"breitbart\" + 0.015*\"get\" + 0.014*\"find\" + 0.013*\"say\" + 0.012*\"stop\" + 0.011*\"turn\" + 0.011*\"woman\" + 0.010*\"man\"\n",
      "Topic 5: 0.016*\"police\" + 0.014*\"charge\" + 0.011*\"case\" + 0.010*\"kill\" + 0.009*\"today\" + 0.009*\"help\" + 0.009*\"officer\" + 0.008*\"state\" + 0.008*\"arrest\" + 0.008*\"threat\"\n",
      "Topic 6: 0.014*\"government\" + 0.012*\"rule\" + 0.012*\"rise\" + 0.012*\"pay\" + 0.012*\"breitbart\" + 0.011*\"long\" + 0.010*\"war\" + 0.010*\"public\" + 0.009*\"fight\" + 0.009*\"power\"\n",
      "Topic 7: 0.044*\"trump\" + 0.017*\"come\" + 0.015*\"breitbart\" + 0.014*\"warn\" + 0.011*\"child\" + 0.010*\"american\" + 0.010*\"story\" + 0.009*\"refugee\" + 0.009*\"even\" + 0.009*\"death\"\n",
      "Topic 8: 0.019*\"first\" + 0.018*\"kill\" + 0.017*\"die\" + 0.015*\"day\" + 0.015*\"end\" + 0.013*\"isis\" + 0.011*\"lie\" + 0.009*\"back\" + 0.009*\"former\" + 0.009*\"plan\"\n",
      "Topic 9: 0.158*\"trump\" + 0.026*\"breitbart\" + 0.012*\"win\" + 0.011*\"call\" + 0.011*\"know\" + 0.009*\"supporter\" + 0.009*\"protest\" + 0.009*\"president\" + 0.009*\"voter\" + 0.008*\"say\"\n"
     ]
    }
   ],
   "source": [
    "from gensim.corpora.dictionary import Dictionary\n",
    "from gensim.models.ldamodel import LdaModel\n",
    "from gensim.models.coherencemodel import CoherenceModel\n",
    "import matplotlib.pyplot as plt\n",
    "\n",
    "# Create a dictionary and corpus for LDA\n",
    "texts = news_data['processed_title'].apply(eval).tolist()  # Convert string representation to list\n",
    "dictionary = Dictionary(texts)\n",
    "corpus = [dictionary.doc2bow(text) for text in texts]\n",
    "\n",
    "# Train the LDA model\n",
    "lda_model = LdaModel(corpus=corpus, id2word=dictionary, num_topics=10, passes=50)\n",
    "\n",
    "# View the topics\n",
    "for idx, topic in lda_model.print_topics(-1):\n",
    "    print(f\"Topic {idx}: {topic}\")"
   ]
  },
  {
   "cell_type": "code",
   "execution_count": 15,
   "id": "4b168d13-8dfa-4385-9be2-b30e97ab750e",
   "metadata": {},
   "outputs": [
    {
     "name": "stdout",
     "output_type": "stream",
     "text": [
      "Coherence Score: 0.3790200693701843\n"
     ]
    }
   ],
   "source": [
    "coherence_model = CoherenceModel(model=lda_model, texts=texts, dictionary=dictionary, coherence='c_v')\n",
    "coherence_score = coherence_model.get_coherence()\n",
    "print(f\"Coherence Score: {coherence_score}\")"
   ]
  },
  {
   "cell_type": "code",
   "execution_count": 16,
   "id": "e42812b4-e40c-479e-9c8a-d8783f2b5793",
   "metadata": {},
   "outputs": [
    {
     "data": {
      "image/png": "[encoded data removed]",
      "text/plain": [
       "<Figure size 640x480 with 1 Axes>"
      ]
     },
     "metadata": {},
     "output_type": "display_data"
    }
   ],
   "source": [
    "def compute_coherence_values(dictionary, corpus, texts, limit, step=5):\n",
    "    coherence_values = []\n",
    "    for num_topics in range(2, limit, step):\n",
    "        model = LdaModel(corpus=corpus, id2word=dictionary, num_topics=num_topics, passes=10)\n",
    "        coherencemodel = CoherenceModel(model=model, texts=texts, dictionary=dictionary, coherence='c_v')\n",
    "        coherence_values.append((num_topics, coherencemodel.get_coherence()))\n",
    "    return coherence_values\n",
    "\n",
    "# Plot coherence values for different topic numbers\n",
    "limit = 50\n",
    "coherence_values = compute_coherence_values(dictionary, corpus, texts, limit)\n",
    "x, y = zip(*coherence_values)\n",
    "plt.plot(x, y)\n",
    "plt.xlabel(\"Number of Topics\")\n",
    "plt.ylabel(\"Coherence Score\")\n",
    "plt.show()\n"
   ]
  },
  {
   "cell_type": "code",
   "execution_count": 17,
   "id": "9439ca73-7227-4d78-b599-eb1579175a7a",
   "metadata": {},
   "outputs": [
    {
     "name": "stdout",
     "output_type": "stream",
     "text": [
      "Fake News Topics:\n",
      "Topic 0: 0.020*\"trump\" + 0.014*\"know\" + 0.012*\"thing\" + 0.009*\"say\" + 0.009*\"video\" + 0.008*\"stop\" + 0.008*\"protest\" + 0.008*\"time\" + 0.008*\"muslim\" + 0.008*\"take\"\n",
      "Topic 1: 0.033*\"email\" + 0.022*\"vote\" + 0.018*\"wikileak\" + 0.015*\"campaign\" + 0.014*\"new\" + 0.013*\"break\" + 0.010*\"investigation\" + 0.010*\"news\" + 0.009*\"top\" + 0.008*\"expose\"\n",
      "Topic 2: 0.017*\"trump\" + 0.013*\"comment\" + 0.011*\"face\" + 0.010*\"first\" + 0.010*\"information\" + 0.010*\"gold\" + 0.007*\"crisis\" + 0.007*\"history\" + 0.006*\"get\" + 0.006*\"speech\"\n",
      "Topic 3: 0.011*\"life\" + 0.011*\"look\" + 0.011*\"happen\" + 0.009*\"evidence\" + 0.009*\"link\" + 0.009*\"head\" + 0.008*\"report\" + 0.008*\"new\" + 0.008*\"comment\" + 0.007*\"launch\"\n",
      "Topic 4: 0.011*\"case\" + 0.010*\"fight\" + 0.009*\"pay\" + 0.009*\"woman\" + 0.009*\"hit\" + 0.008*\"arrest\" + 0.008*\"money\" + 0.007*\"comment\" + 0.007*\"foreign\" + 0.007*\"dead\"\n",
      "Topic 5: 0.015*\"good\" + 0.015*\"food\" + 0.013*\"charge\" + 0.013*\"become\" + 0.011*\"health\" + 0.011*\"interview\" + 0.010*\"migrant\" + 0.010*\"military\" + 0.009*\"send\" + 0.007*\"warn\"\n",
      "Topic 6: 0.064*\"trump\" + 0.026*\"war\" + 0.020*\"world\" + 0.017*\"video\" + 0.010*\"supporter\" + 0.009*\"support\" + 0.009*\"voter\" + 0.009*\"medium\" + 0.008*\"vote\" + 0.008*\"government\"\n",
      "Topic 7: 0.023*\"trump\" + 0.016*\"come\" + 0.013*\"email\" + 0.010*\"find\" + 0.009*\"week\" + 0.008*\"new\" + 0.008*\"year\" + 0.008*\"troop\" + 0.008*\"get\" + 0.008*\"next\"\n",
      "Topic 8: 0.021*\"call\" + 0.019*\"isis\" + 0.016*\"kill\" + 0.014*\"say\" + 0.013*\"end\" + 0.013*\"go\" + 0.011*\"war\" + 0.010*\"mosul\" + 0.008*\"make\" + 0.008*\"death\"\n",
      "Topic 9: 0.069*\"election\" + 0.053*\"trump\" + 0.017*\"day\" + 0.016*\"win\" + 0.011*\"rig\" + 0.010*\"video\" + 0.009*\"state\" + 0.008*\"lead\" + 0.008*\"steal\" + 0.007*\"onion_fine_news_source\"\n",
      "\n",
      "Real News Topics:\n",
      "Topic 0: 0.029*\"trump\" + 0.017*\"lose\" + 0.017*\"vote\" + 0.014*\"new\" + 0.012*\"live\" + 0.011*\"seek\" + 0.010*\"try\" + 0.010*\"government\" + 0.010*\"hope\" + 0.009*\"evening_briefing\"\n",
      "Topic 1: 0.025*\"kill\" + 0.021*\"trump\" + 0.016*\"say\" + 0.015*\"breitbart\" + 0.015*\"official\" + 0.010*\"court\" + 0.010*\"police\" + 0.009*\"think\" + 0.009*\"arrest\" + 0.009*\"ban\"\n",
      "Topic 2: 0.034*\"say\" + 0.030*\"breitbart\" + 0.027*\"trump\" + 0.020*\"fight\" + 0.014*\"election\" + 0.014*\"make\" + 0.013*\"see\" + 0.012*\"attack\" + 0.011*\"right\" + 0.011*\"terror\"\n",
      "Topic 3: 0.020*\"breitbart\" + 0.014*\"set\" + 0.013*\"win\" + 0.013*\"protest\" + 0.013*\"tell\" + 0.012*\"go\" + 0.012*\"know\" + 0.012*\"big\" + 0.012*\"day\" + 0.011*\"story\"\n",
      "Topic 4: 0.019*\"migrant\" + 0.013*\"group\" + 0.012*\"party\" + 0.011*\"debate\" + 0.011*\"become\" + 0.010*\"say\" + 0.010*\"presidential\" + 0.008*\"town\" + 0.008*\"book\" + 0.008*\"refuse\"\n",
      "Topic 5: 0.030*\"breitbart\" + 0.028*\"trump\" + 0.019*\"case\" + 0.015*\"leave\" + 0.014*\"take\" + 0.013*\"deal\" + 0.011*\"order\" + 0.011*\"pay\" + 0.010*\"way\" + 0.009*\"refugee\"\n",
      "Topic 6: 0.043*\"trump\" + 0.042*\"breitbart\" + 0.019*\"watch\" + 0.015*\"bill\" + 0.012*\"life\" + 0.010*\"drug\" + 0.010*\"use\" + 0.009*\"investigation\" + 0.009*\"student\" + 0.009*\"islamic_state\"\n",
      "Topic 7: 0.026*\"die\" + 0.023*\"breitbart\" + 0.013*\"year\" + 0.009*\"trump\" + 0.009*\"last\" + 0.009*\"want\" + 0.009*\"return\" + 0.008*\"turn\" + 0.008*\"national\" + 0.008*\"world\"\n",
      "Topic 8: 0.016*\"shoot\" + 0.015*\"video\" + 0.014*\"suspect\" + 0.012*\"dead\" + 0.012*\"money\" + 0.011*\"man\" + 0.010*\"activist\" + 0.009*\"kill\" + 0.009*\"cartel\" + 0.009*\"death\"\n",
      "Topic 9: 0.078*\"trump\" + 0.032*\"breitbart\" + 0.013*\"get\" + 0.013*\"new\" + 0.009*\"medium\" + 0.008*\"end\" + 0.008*\"meet\" + 0.008*\"lead\" + 0.008*\"back\" + 0.008*\"law\"\n"
     ]
    }
   ],
   "source": [
    "fake_texts = news_data[news_data['label'] == 1]['processed_title'].apply(eval).tolist()\n",
    "real_texts = news_data[news_data['label'] == 0]['processed_title'].apply(eval).tolist()\n",
    "\n",
    "# Create dictionaries and corpora\n",
    "fake_dict = Dictionary(fake_texts)\n",
    "fake_corpus = [fake_dict.doc2bow(text) for text in fake_texts]\n",
    "real_dict = Dictionary(real_texts)\n",
    "real_corpus = [real_dict.doc2bow(text) for text in real_texts]\n",
    "\n",
    "# Train separate LDA models\n",
    "fake_lda_model = LdaModel(corpus=fake_corpus, id2word=fake_dict, num_topics=10, passes=50)\n",
    "real_lda_model = LdaModel(corpus=real_corpus, id2word=real_dict, num_topics=10, passes=50)\n",
    "\n",
    "print(\"Fake News Topics:\")\n",
    "for idx, topic in fake_lda_model.print_topics(-1):\n",
    "    print(f\"Topic {idx}: {topic}\")\n",
    "\n",
    "print(\"\\nReal News Topics:\")\n",
    "for idx, topic in real_lda_model.print_topics(-1):\n",
    "    print(f\"Topic {idx}: {topic}\")\n"
   ]
  },
  {
   "cell_type": "code",
   "execution_count": 18,
   "id": "7b4f7ac8-c530-4941-a3ce-005566a57391",
   "metadata": {},
   "outputs": [
    {
     "data": {
      "text/html": [
       "\n",
       "<link rel=\"stylesheet\" type=\"text/css\" href=\"https://cdn.jsdelivr.net/gh/bmabey/pyLDAvis@3.4.0/pyLDAvis/js/ldavis.v1.0.0.css\">\n",
       "\n",
       "\n",
       "<div id=\"ldavis_el2601399081366904967104993490\" style=\"background-color:white;\"></div>\n",
       "<script type=\"text/javascript\">\n",
       "\n",
       "var ldavis_el2601399081366904967104993490_data = {\"mdsDat\": {\"x\": [-0.19857100394680338, 0.08116557393226048, 0.13896850679792247, 0.14427720354175463, -0.2469551427203332, -0.010305345907334628, -0.10291824248207725, 0.009219207790180256, 0.09389802145503633, 0.09122122153939446], \"y\": [0.05125400160425126, -0.0725042592657327, 0.20039501960936495, 0.14351264068955424, 0.00937427769651848, 0.049919221131427355, -0.062085177585619336, 0.07877502521426441, -0.15457801511254318, -0.2440627339814856], \"topics\": [1, 2, 3, 4, 5, 6, 7, 8, 9, 10], \"cluster\": [1, 1, 1, 1, 1, 1, 1, 1, 1, 1], \"Freq\": [13.731123294620382, 10.552112248099446, 10.40653672661464, 10.351858345785052, 9.735933384522847, 9.687848586316017, 9.406690361726659, 8.947143058613593, 8.829776842429538, 8.35097715127183]}, \"tinfo\": {\"Term\": [\"trump\", \"war\", \"email\", \"vote\", \"kill\", \"want\", \"go\", \"life\", \"first\", \"say\", \"die\", \"come\", \"wikileak\", \"campaign\", \"police\", \"get\", \"breitbart\", \"report\", \"end\", \"face\", \"charge\", \"new\", \"find\", \"day\", \"right\", \"win\", \"tell\", \"warn\", \"government\", \"lose\", \"know\", \"supporter\", \"president\", \"voter\", \"protester\", \"speech\", \"victory\", \"full\", \"national\", \"candidate\", \"star\", \"politic\", \"poll\", \"pick\", \"pro\", \"dollar\", \"remove\", \"interview\", \"inauguration\", \"drive\", \"coulter\", \"action\", \"sweden\", \"letter\", \"potential\", \"minute\", \"defend\", \"mean\", \"trust\", \"endorse\", \"trump\", \"name\", \"win\", \"protest\", \"exclusive\", \"last\", \"talk\", \"anti\", \"group\", \"breitbart\", \"call\", \"hate\", \"medium\", \"campaign\", \"say\", \"video\", \"comment\", \"vote\", \"show\", \"world\", \"attack\", \"expose\", \"investigation\", \"scandal\", \"sex\", \"liberal\", \"speak\", \"history\", \"free\", \"link\", \"college\", \"really\", \"global\", \"fix\", \"shock\", \"control\", \"allow\", \"well\", \"trade\", \"terrorism\", \"create\", \"fraud\", \"result\", \"choice\", \"burn\", \"bombshell\", \"celebrate\", \"probe\", \"saudi\", \"sleep\", \"learn\", \"right\", \"email\", \"order\", \"news\", \"rig\", \"break\", \"new\", \"city\", \"election\", \"post\", \"video\", \"comment\", \"human\", \"reveal\", \"head\", \"find\", \"get\", \"medium\", \"first\", \"die\", \"isis\", \"lie\", \"syrian\", \"become\", \"mosul\", \"fail\", \"team\", \"aleppo\", \"crisis\", \"troop\", \"grow\", \"legal\", \"battle\", \"year_old\", \"bombing\", \"civil_right\", \"land\", \"root\", \"member\", \"ignore\", \"missile\", \"soldier\", \"era\", \"ambassador\", \"foreign_policy\", \"civilian\", \"front\", \"oil\", \"end\", \"strike\", \"former\", \"kill\", \"back\", \"day\", \"plan\", \"nation\", \"put\", \"violence\", \"time\", \"girl\", \"election\", \"call\", \"say\", \"charge\", \"today\", \"officer\", \"threat\", \"rape\", \"veteran\", \"large\", \"confirm\", \"game\", \"photo\", \"director\", \"elect\", \"art\", \"evidence\", \"prove\", \"low\", \"miss\", \"declare\", \"bank\", \"little\", \"company\", \"expert\", \"night\", \"investigate\", \"thank\", \"possible\", \"powerful\", \"advance\", \"thousand\", \"file\", \"police\", \"case\", \"high\", \"happen\", \"arrest\", \"help\", \"test\", \"official\", \"kill\", \"state\", \"get\", \"show\", \"take\", \"say\", \"video\", \"man\", \"new\", \"see\", \"come\", \"warn\", \"american\", \"story\", \"refugee\", \"even\", \"great\", \"issue\", \"block\", \"target\", \"much\", \"presidency\", \"jewish\", \"save\", \"cost\", \"body\", \"term\", \"build\", \"wrong\", \"fall\", \"dump\", \"economic\", \"trip\", \"path\", \"facebook\", \"activist\", \"promote\", \"read\", \"conservative\", \"increase\", \"seek\", \"week\", \"obama\", \"death\", \"problem\", \"child\", \"bad\", \"trump\", \"think\", \"hit\", \"breitbart\", \"family\", \"make\", \"want\", \"stop\", \"turn\", \"policy\", \"launch\", \"play\", \"terror\", \"house\", \"reject\", \"bomb\", \"mother\", \"nuclear\", \"voting\", \"worker\", \"boy\", \"pass\", \"illegal_alien\", \"host\", \"tweet\", \"corruption\", \"female\", \"urge\", \"community\", \"evening_briefing\", \"daily\", \"bias\", \"town\", \"alternative\", \"resistance\", \"goal\", \"vote\", \"run\", \"find\", \"lead\", \"review\", \"white\", \"money\", \"get\", \"black\", \"woman\", \"man\", \"claim\", \"breitbart\", \"say\", \"watch\", \"comment\", \"people\", \"student\", \"make\", \"wikileak\", \"tell\", \"presidential\", \"office\", \"continue\", \"hope\", \"start\", \"act\", \"promise\", \"health_care\", \"light\", \"reason\", \"many\", \"feel\", \"add\", \"include\", \"admit\", \"key\", \"hollywood\", \"sport\", \"nearly\", \"fact\", \"democracy\", \"trial\", \"ethic\", \"friend\", \"lawyer\", \"operation\", \"praise\", \"earthquake\", \"major\", \"lose\", \"shoot\", \"bill\", \"dead\", \"release\", \"set\", \"sign\", \"campaign\", \"ban\", \"keep\", \"good\", \"reveal\", \"leave\", \"fire\", \"email\", \"breitbart\", \"election\", \"go\", \"life\", \"let\", \"debate\", \"live\", \"brexit\", \"next\", \"price\", \"sell\", \"future\", \"study\", \"spy\", \"information\", \"rate\", \"reach\", \"abuse\", \"article\", \"place\", \"intelligence\", \"challenge\", \"journalist\", \"door\", \"inmate\", \"explain\", \"write\", \"truck\", \"datum\", \"deadly\", \"effect\", \"realize\", \"face\", \"leak\", \"political\", \"look\", \"year\", \"say\", \"way\", \"fear\", \"health\", \"real\", \"obamacare\", \"breitbart\", \"attack\", \"child\", \"new\", \"election\", \"family\", \"open\", \"border\", \"military\", \"crime\", \"question\", \"raise\", \"close\", \"bring\", \"cop\", \"security\", \"jail\", \"country\", \"less\", \"murder\", \"early\", \"away\", \"judge\", \"fake\", \"aid\", \"blast\", \"forget\", \"dog\", \"far\", \"clash\", \"honor\", \"ready\", \"reporter\", \"briefing\", \"expect\", \"percent\", \"war\", \"begin\", \"report\", \"fake_news\", \"secret\", \"need\", \"race\", \"top\", \"breitbart\", \"migrant\", \"day\", \"new\", \"police\", \"world\", \"rise\", \"long\", \"public\", \"power\", \"hack\", \"car\", \"book\", \"federal\", \"hand\", \"moment\", \"repeal\", \"follow\", \"picture\", \"cancel\", \"islamic_state\", \"donor\", \"iraqi\", \"stage\", \"red\", \"buy\", \"bond\", \"replace\", \"violate\", \"radio\", \"vow\", \"space\", \"oppose\", \"million\", \"budget\", \"employee\", \"government\", \"rule\", \"pay\", \"move\", \"truth\", \"push\", \"prepare\", \"threaten\", \"force\", \"fight\", \"hold\", \"war\", \"steal\", \"party\", \"breitbart\", \"law\", \"home\", \"deal\"], \"Freq\": [2722.0, 315.0, 343.0, 291.0, 301.0, 205.0, 196.0, 195.0, 203.0, 670.0, 185.0, 173.0, 162.0, 283.0, 266.0, 355.0, 1177.0, 296.0, 191.0, 166.0, 152.0, 570.0, 243.0, 309.0, 191.0, 222.0, 139.0, 139.0, 168.0, 168.0, 154.21855148998515, 135.0084953443792, 124.85779179333483, 123.51251589255168, 104.93356923089168, 94.39263737163738, 92.26845832173771, 77.24399885767976, 75.99216535438913, 70.17643909726544, 68.15057042214079, 66.91835613953472, 66.47354220435531, 62.40033084702907, 56.785510766499144, 52.74945540083797, 51.67134574432232, 51.12712329368794, 49.53941609785528, 49.08125707502251, 48.3395802253585, 48.31297709778862, 48.21967866386084, 46.998763847092725, 46.18682273386098, 46.08504384157245, 45.40837156337798, 44.946030901187704, 44.479237412459796, 43.22284394695545, 2270.318325959995, 80.69028571840744, 177.76776322087943, 126.68262037227062, 65.46416343204332, 78.86808196353593, 75.08265712013527, 76.45213898773572, 71.8197463610006, 380.3916193255164, 164.92960141091592, 58.71550640347991, 97.77530572870496, 108.00816225537355, 119.9768912699218, 100.53327265445293, 94.97396224609878, 82.25803554657786, 76.76504881770515, 76.9363989396567, 76.5838623014923, 122.35554814292125, 115.09784827759924, 108.82402335087701, 104.66970633573258, 88.85732394656993, 84.36663534084943, 81.35230973673802, 75.1921952753518, 74.08632523709656, 65.43525279395669, 64.24831683702538, 63.37846625363334, 61.199859568665, 60.841330440586106, 59.45333515647249, 55.847661616963514, 55.62810851602713, 51.185398749060944, 49.59742988797708, 46.6185584021644, 46.58697387703848, 46.4781621519957, 44.90131837128366, 43.317322018084646, 42.830661500644744, 41.727477536373804, 41.29268860667125, 38.68092676305402, 37.50251471714764, 37.38555986551447, 153.39303011697467, 244.9166992975615, 92.47933519661571, 121.47763419184068, 68.49520048991664, 126.33059802115844, 249.78357719594743, 60.37457620132307, 174.90707279978673, 61.26682102605561, 120.28764166796168, 120.42028844031357, 67.01527149353525, 67.6831159343942, 60.40756036653277, 61.31441908037537, 61.23682138749515, 60.45586338663003, 203.060307100193, 184.91384864307116, 140.8604275751222, 116.09595261903334, 95.76401431713475, 87.68940370198601, 85.21357735525396, 83.91104744456148, 81.90171709867256, 80.98648163228081, 75.71806331061298, 70.58718074760547, 68.18090886579108, 62.93445404362446, 57.199915252297195, 54.50319029886729, 52.72981025549893, 52.1241342783803, 51.619496488662136, 49.63353027209476, 46.17662363317886, 45.724575433417044, 45.46636222139745, 42.695850465114574, 42.32164125266777, 40.21026284497897, 39.9126670687544, 39.23350369878063, 38.664584104953896, 38.439696748115566, 158.1902985480159, 78.90193340524426, 100.31141276608251, 192.68239119400613, 100.62616879497884, 160.98821900596377, 98.29322698890209, 59.10019438728463, 62.26202993597454, 59.44277524699546, 94.68392573584076, 57.006587739127546, 93.42612970872109, 78.78784804658281, 78.78245866662202, 151.43563979175818, 100.11710247525413, 95.7526924693545, 86.54000371861801, 82.20836081183413, 76.56321711076329, 76.37172822295598, 73.55211707241, 66.73317824151503, 64.5111388248967, 62.265822702990654, 61.5595152865868, 61.5343051659607, 58.533992878464026, 58.42516128243319, 57.19073868990993, 56.92548723049899, 52.51426636185091, 51.655506874380144, 50.73197544903324, 49.51624590350206, 48.74930597631725, 47.46407948832322, 46.467966742519366, 44.963709032289515, 44.20396766978489, 41.83404974423167, 41.7332774108319, 41.47576213681534, 41.38380880236106, 170.48846357538974, 124.54439686066725, 76.72376125699311, 68.8915209616856, 88.69384859788391, 99.60843755840031, 56.982379112648786, 73.74730620419386, 108.18065597587382, 91.46102532253018, 85.34785881136578, 78.9020590446116, 77.71245837059838, 81.64268285886675, 72.89669432078608, 61.35555763667567, 62.72315872386407, 59.50444117627767, 172.88360430802294, 138.94584192431563, 104.54316320714908, 101.28239641537361, 96.63608171645843, 93.02165680533142, 90.12063471780492, 88.53265326397556, 83.19397766366374, 81.79794677723112, 68.85412132940439, 65.00457477718938, 63.97694844746506, 62.662948773089845, 61.644452320711665, 59.57593451445854, 59.03336912015897, 57.475659168128324, 56.64766997440365, 51.554950326206296, 45.26610280023919, 45.054828987497295, 44.441000224000966, 43.44674566123762, 43.428424186105694, 42.31587053138527, 42.15694514694208, 41.65814429209992, 41.49427177703028, 40.43720004985372, 78.62834107485918, 91.94481554655357, 62.22499002859123, 91.98093624694324, 57.21066008651031, 108.4524503972457, 73.12934900634836, 451.81583779690175, 70.9798065059772, 70.58881226834694, 153.60170216199717, 72.52822515797332, 67.97353207789618, 205.04957749669205, 126.12701500848853, 116.3433195845247, 84.8095698251225, 72.69744805300928, 71.09811001615306, 70.02497618965897, 65.172042352153, 61.05284079080724, 57.41076764426019, 56.28405106138562, 53.457945690938395, 53.19152950503074, 51.95581911396943, 51.37534712697684, 50.524452766683666, 49.4666067024579, 49.45816914268929, 46.33339494325475, 44.39363018782851, 44.180111738051366, 44.085352178231254, 43.40113033117238, 41.472661323454275, 41.0411694301364, 39.330036088484924, 39.272425885462376, 38.9391706202679, 37.94329054299899, 37.48514427554086, 208.72464972217736, 104.4322347208064, 145.28491492381633, 93.63008898340652, 66.1616131567058, 81.85987262874775, 70.01840471953685, 152.2024100334605, 96.48284400371641, 110.9173922914448, 105.02120095889863, 74.65307693256933, 162.8653124132904, 131.6625171958983, 84.3750118756513, 81.18649299874876, 64.0939149642505, 60.65301573014836, 62.21343516825106, 162.14520437763977, 138.40516413840243, 87.21703494567284, 83.53023400669953, 80.48858194750908, 73.54483467364014, 69.56692728666481, 68.26414783527238, 66.27549460147404, 63.29688861816232, 62.13886192946119, 60.801761265923496, 58.82529614501877, 58.4293315590284, 54.31223564757779, 53.54156342522032, 50.227396721399245, 48.379009997221075, 47.719411529325725, 46.63354562494126, 44.34320792720839, 42.10988417571364, 41.67947911113644, 40.59793432167323, 39.75854169312111, 39.30918243867699, 39.13231030583852, 38.02958654865616, 36.59171262275367, 35.46224565963613, 67.82265557880062, 141.05204427601814, 90.04015418655257, 86.46207837057675, 86.26790342936994, 84.08921746962369, 81.13429046213312, 58.26755121821853, 149.47255780366632, 81.42094276725985, 69.42755068818552, 81.09420776342618, 78.23615262951004, 77.4602969041154, 73.47106379236237, 97.94698715038732, 119.9142601765685, 96.30169741467907, 195.38022671111412, 194.30725987978926, 103.9631996240196, 92.41664194066959, 83.29400673214823, 82.47434244782806, 80.05975694851598, 61.102463613026615, 57.939445353825924, 53.53129341569106, 52.15072123489454, 51.47749039556837, 48.08562024861291, 47.19828470716096, 46.19528410919297, 45.97258415390473, 44.148911401829494, 43.648593495539416, 40.49737298484191, 39.80717415589708, 39.495755480910724, 38.88538779263257, 37.847613505474364, 37.36197733872319, 37.31207251350892, 36.57910902777639, 36.14856319810933, 36.12010723814714, 35.895086128197775, 34.803728945563385, 146.17854556240195, 107.04534396818516, 89.60889123680177, 91.31918954551341, 141.18101231553786, 204.24304094205985, 71.31263831559498, 60.16316387605953, 58.124334921344726, 57.496183348858374, 57.58538200655033, 118.48847065078945, 57.934087500585576, 51.02699005303914, 56.35880447568717, 54.56794203010008, 48.44136774193963, 126.87920361114683, 114.78631489989868, 110.33038290453007, 99.67537747646608, 91.35808096614498, 80.2688833392006, 73.23880880344166, 70.9249800691117, 66.15819663466482, 65.27076751075266, 65.07120909379367, 63.17789721349749, 60.1789104508206, 59.65110069915198, 57.986924044300785, 55.10239509545042, 51.619522445330496, 50.93969935157581, 49.73673834152991, 48.76123327969655, 48.5908296989959, 48.279595040241524, 46.5646697662586, 43.165438039830654, 42.970043369240265, 42.645525196993496, 41.446129421687196, 40.70217085517102, 39.73807196100099, 39.61053300811778, 225.49810041646418, 65.75515718136543, 148.39099469718747, 70.50609943391977, 70.61159679666763, 74.89203570956963, 55.31284297938584, 65.94660770337916, 94.90201041410029, 58.283889152418595, 59.39621655614314, 63.10891336595725, 57.39166332379639, 54.65963427684558, 103.58436572268361, 99.51846385306672, 88.78638161089653, 78.82510610066706, 71.8798066894129, 71.861342643287, 69.81367422663051, 63.84921719861611, 62.431370671183366, 54.8061635076039, 54.62837681556184, 51.12429262117299, 50.71370989984389, 50.62470863648225, 50.30149416517194, 49.82945557262845, 47.12379680467215, 45.17559966959295, 43.7000560522811, 42.07833941519791, 41.29148354214949, 40.0542336299672, 39.87442705109708, 38.194675318879284, 37.824347801774834, 37.381658653525434, 36.65113970462916, 36.515343038966506, 35.401220703894225, 32.75159546983061, 126.00510136950717, 107.50644024755529, 102.26743208960463, 67.58839015673595, 56.77854634403771, 61.1488932124033, 49.17434844688161, 69.89450227857294, 70.1576414061582, 80.81208832072711, 56.79293803768767, 89.59537886435662, 50.96017681639266, 55.028143368714844, 101.50965688558689, 60.88335546920971, 51.87253852039703, 53.03865257952962], \"Total\": [2722.0, 315.0, 343.0, 291.0, 301.0, 205.0, 196.0, 195.0, 203.0, 670.0, 185.0, 173.0, 162.0, 283.0, 266.0, 355.0, 1177.0, 296.0, 191.0, 166.0, 152.0, 570.0, 243.0, 309.0, 191.0, 222.0, 139.0, 139.0, 168.0, 168.0, 155.07250187288648, 135.8624150368195, 125.71170339194316, 124.36644613027083, 105.78755269811363, 95.24658419837276, 93.12237484506717, 78.09793067217412, 76.84612240649975, 71.03037273159215, 69.00450366119132, 67.7723110546472, 67.32746064207063, 63.25424833485203, 57.639450258256566, 53.603473603082634, 52.525291339685516, 51.98104909586988, 50.39330983900781, 49.935276197459544, 49.193557165517, 49.1668970821385, 49.07391959655273, 47.852745128830215, 47.04076640767762, 46.939005893967696, 46.26233579394818, 45.79997483308367, 45.33318308875398, 44.07674451814132, 2722.8959034391696, 88.55165989789411, 222.15895089187845, 168.1847272524089, 73.38604629270937, 95.65429447376998, 90.73231121658014, 93.70905789744522, 86.25200727056658, 1177.8547892540425, 327.38804935459535, 68.93770003010316, 216.50439799266013, 283.7245550400999, 670.4424572941484, 390.0475432715454, 394.1554721469879, 291.7411217165682, 268.29796458715754, 276.33201737665036, 298.25551466334315, 123.20402662114017, 115.94630224326194, 109.67251290724853, 105.51818349955742, 89.70580866650454, 85.2151359727853, 82.20078598753008, 76.04067724131941, 74.93480399825737, 66.28371782035501, 65.0968240044707, 64.22693038498812, 62.04843463862779, 61.68980837190688, 60.30180507954877, 56.69615027087833, 56.47658432478741, 52.03389790134574, 50.44593584957845, 47.46704790439267, 47.4354508888566, 47.32663122027028, 45.74980339774248, 44.16596416682572, 43.679110640995205, 42.575964468329346, 42.14115058767538, 39.52942606061304, 38.350966586132536, 38.23404455523536, 191.52228272780158, 343.6190146066649, 114.88811600013928, 180.76462134322762, 83.96841711997168, 204.29113612289464, 570.7046955497983, 76.4105631947579, 553.3043357181152, 83.92620863603307, 390.0475432715454, 394.1554721469879, 106.46052100318911, 146.67464172108444, 96.79228594561492, 243.24451762661468, 355.5155510697018, 216.50439799266013, 203.90916108630105, 185.7626604836657, 141.709233166681, 116.94480140741715, 96.61282191087476, 88.53820863784799, 86.06236565098044, 84.75987796809383, 82.7505534978603, 81.83527331123, 76.56688045050267, 71.43598571833502, 69.02975210098023, 63.783342643291626, 58.04875639809706, 55.35200922574054, 53.578661611160165, 52.972986866981, 52.46833503588378, 50.4823337017173, 47.02544180838892, 46.57342710741074, 46.315195593433, 43.54466813847031, 43.17045594187875, 41.059070032209725, 40.761559624658254, 40.08227396470985, 39.5134698907962, 39.28852297483986, 191.72179377365558, 93.14614444707655, 124.94461043642728, 301.6156982501391, 132.32621297133772, 309.3183946722898, 181.0436223494664, 76.17205443104082, 85.45524930500969, 79.4606819920218, 255.52512311769618, 73.66402299482064, 553.3043357181152, 327.38804935459535, 670.4424572941484, 152.2828036640109, 100.96424811794816, 96.59982734074073, 87.38716780475254, 83.05552887087882, 77.41036712629464, 77.2189875236641, 74.39927404279842, 67.58034168185505, 65.35830218442125, 63.112971833047936, 62.4066849350946, 62.38150049778575, 59.38116101110638, 59.27239269841011, 58.037972451248656, 57.772678398492545, 53.36142949709404, 52.50273375983146, 51.57920564062586, 50.36340370931196, 49.59648007553508, 48.31122917309357, 47.31515753367489, 45.810895020312174, 45.05112603718873, 42.681207401862586, 42.580615136721555, 42.322972494753095, 42.230961460722426, 266.9366627820508, 186.33571336281554, 98.92654013449088, 88.46192290019503, 139.3439768926887, 179.9091443118292, 69.86987825519051, 117.97269148942578, 301.6156982501391, 241.05260206792616, 355.5155510697018, 268.29796458715754, 252.91616568289552, 670.4424572941484, 390.0475432715454, 276.5479261252562, 570.7046955497983, 158.84988756614078, 173.73471827091163, 139.79696853263684, 105.39427332046881, 102.13350961005496, 97.48720566431108, 93.87277591598304, 90.9717427218569, 89.38387068164879, 84.04511873868948, 82.64907698855747, 69.7052261395387, 65.85565940663986, 64.8280992809543, 63.5140855456771, 62.49556064118553, 60.42704500741649, 59.88452305643456, 58.32676842013369, 57.49879952280392, 52.40605191134321, 46.11727541894811, 45.90592033817082, 45.29215116993909, 44.29787056778873, 44.279526599219906, 43.16700190612029, 43.00809725825121, 42.50922635873411, 42.345370263674326, 41.288316539640086, 95.9067459915889, 121.91639172335651, 76.95953363880395, 139.0948908868934, 68.22012981902385, 191.33126247852798, 109.40558041802703, 2722.8959034391696, 105.20242931321208, 112.25191565140088, 1177.8547892540425, 143.01014815725335, 280.75078615104894, 205.89742326382662, 126.97485699021406, 117.19116858464166, 85.6574003981125, 73.54530731315262, 71.94594695339083, 70.87282910974999, 66.02000273315124, 61.900726785627334, 58.25862618963974, 57.13187182699351, 54.30579728230253, 54.03940502681575, 52.80367530772181, 52.22319649774363, 51.372316830803754, 50.314509384672846, 50.306012965591655, 47.18125412522714, 45.24151453938346, 45.027976360096964, 44.9332003386579, 44.249028041312556, 42.32045447828054, 41.88898936224128, 40.178093120376424, 40.120283827517845, 39.78713124280812, 38.79113744011342, 38.332983480769144, 291.7411217165682, 131.48626112763426, 243.24451762661468, 139.5074824754968, 85.03446801938622, 122.16842240420698, 95.80129140192645, 355.5155510697018, 183.27492155862834, 292.0929312795333, 276.5479261252562, 136.69900583054255, 1177.8547892540425, 670.4424572941484, 226.22130058415044, 394.1554721469879, 177.9794757454204, 130.0147334819721, 280.75078615104894, 162.99537619061743, 139.2553418672636, 88.06723000580136, 84.38043127188614, 81.33878160264273, 74.39504244429672, 70.41714633960201, 69.11438408640126, 67.12566268460887, 64.14706999736363, 62.98908972013644, 61.65193701178128, 59.67548167922717, 59.27949572724752, 55.16243885955614, 54.39176711541379, 51.07755495107373, 49.22918955960452, 48.56965211187103, 47.48377376955754, 45.193405796771444, 42.96007466209274, 42.529648468827176, 41.4481108913998, 40.608729422860776, 40.15941498915444, 39.98249255178032, 38.87975201785763, 37.44192817967774, 36.31240848268524, 74.08370122955017, 168.72895347168816, 112.38893240888078, 109.42014271295079, 114.69040811716339, 114.31319565206954, 109.40528457869779, 69.21682622514419, 283.7245550400999, 145.5835158717634, 112.24045594206427, 157.37293620699776, 146.67464172108444, 161.74694710197767, 140.3947565182304, 343.6190146066649, 1177.8547892540425, 553.3043357181152, 196.22880997475457, 195.1558319237538, 104.81178456867644, 93.26519405516052, 84.14257006742417, 83.32289699395899, 80.90830910429143, 61.951046078410506, 58.78800752132027, 54.3798489704852, 52.99930617648597, 52.326044426765634, 48.93419306634546, 48.046906984505426, 47.04387007879557, 46.82115713594986, 44.997490743283485, 44.49715685465647, 41.345946840800835, 40.6557275099291, 40.34434407010427, 39.73397441242368, 38.69629223493106, 38.21052725731834, 38.160669470194776, 37.42772832483426, 36.997158311887794, 36.96876636913339, 36.74365872527602, 35.65242448574709, 166.13677103864455, 129.54871538999973, 114.42888133970979, 118.35437291849004, 266.27569976699886, 670.4424572941484, 116.65973409330832, 86.9047656357465, 96.08104812937971, 101.40311471430171, 105.17410655718858, 1177.8547892540425, 298.25551466334315, 191.33126247852798, 570.7046955497983, 553.3043357181152, 143.01014815725335, 127.72582005335715, 115.6329252604331, 111.17700889399624, 100.52198870371438, 92.20469715268065, 81.11554408699149, 74.0854239792837, 71.77160645908681, 67.00480794713152, 66.11738966684041, 65.9178928826572, 64.02450907212891, 61.02557654350608, 60.49770853154493, 58.83363040161106, 55.94903304068001, 52.46614300367424, 51.78632711244893, 50.58336838232494, 49.60783828782143, 49.43742214015848, 49.12620150669625, 47.41131765776928, 44.01205627791134, 43.81666702661477, 43.49213474268177, 42.292727960065896, 41.54873990856786, 40.584684608801425, 40.45716075792375, 315.8440480863586, 76.84681437896324, 296.28081486201785, 100.19461632443806, 111.52742000274276, 145.5772323385642, 77.11435614740392, 179.3211524448899, 1177.8547892540425, 116.82189504918014, 309.3183946722898, 570.7046955497983, 266.9366627820508, 276.33201737665036, 104.43163892404493, 100.36576011819425, 89.63367718010046, 79.67237254409324, 72.7270796689439, 72.70865691410182, 70.66094845853432, 64.69648739695529, 63.27867503872209, 55.65348665990373, 55.47568582360688, 51.97156740277209, 51.56102094366054, 51.47201886743059, 51.148791569528555, 50.67673293717983, 47.97109313841557, 46.02290382357488, 44.54739618969809, 42.92559912171404, 42.138843830705696, 40.90149788824912, 40.721710761659665, 39.04197831056904, 38.67159702922029, 38.22893311381414, 37.4984065905663, 37.36261638593412, 36.24848262367272, 33.59885136872431, 168.80283709269582, 141.94727390642453, 162.73985344460056, 94.88038368476302, 73.91294299885163, 85.8143344991688, 62.29296525495902, 120.50891532772766, 128.5586657253003, 172.3654572907276, 92.16095875184453, 315.8440480863586, 70.29741300845534, 96.4191084669194, 1177.8547892540425, 154.65430295691405, 90.15811754054371, 145.22042171820377], \"Category\": [\"Default\", \"Default\", \"Default\", \"Default\", \"Default\", \"Default\", \"Default\", \"Default\", \"Default\", \"Default\", \"Default\", \"Default\", \"Default\", \"Default\", \"Default\", \"Default\", \"Default\", \"Default\", \"Default\", \"Default\", \"Default\", \"Default\", \"Default\", \"Default\", \"Default\", \"Default\", \"Default\", \"Default\", \"Default\", \"Default\", \"Topic1\", \"Topic1\", \"Topic1\", \"Topic1\", \"Topic1\", \"Topic1\", \"Topic1\", \"Topic1\", \"Topic1\", \"Topic1\", \"Topic1\", \"Topic1\", \"Topic1\", \"Topic1\", \"Topic1\", \"Topic1\", \"Topic1\", \"Topic1\", \"Topic1\", \"Topic1\", \"Topic1\", \"Topic1\", \"Topic1\", \"Topic1\", \"Topic1\", \"Topic1\", \"Topic1\", \"Topic1\", \"Topic1\", \"Topic1\", \"Topic1\", \"Topic1\", \"Topic1\", \"Topic1\", \"Topic1\", \"Topic1\", \"Topic1\", \"Topic1\", \"Topic1\", \"Topic1\", \"Topic1\", \"Topic1\", \"Topic1\", \"Topic1\", \"Topic1\", \"Topic1\", \"Topic1\", \"Topic1\", \"Topic1\", \"Topic1\", \"Topic1\", \"Topic2\", \"Topic2\", \"Topic2\", \"Topic2\", \"Topic2\", \"Topic2\", \"Topic2\", \"Topic2\", \"Topic2\", \"Topic2\", \"Topic2\", \"Topic2\", \"Topic2\", \"Topic2\", \"Topic2\", \"Topic2\", \"Topic2\", \"Topic2\", \"Topic2\", \"Topic2\", \"Topic2\", \"Topic2\", \"Topic2\", \"Topic2\", \"Topic2\", \"Topic2\", \"Topic2\", \"Topic2\", \"Topic2\", \"Topic2\", \"Topic2\", \"Topic2\", \"Topic2\", \"Topic2\", \"Topic2\", \"Topic2\", \"Topic2\", \"Topic2\", \"Topic2\", \"Topic2\", \"Topic2\", \"Topic2\", \"Topic2\", \"Topic2\", \"Topic2\", \"Topic2\", \"Topic2\", \"Topic2\", \"Topic3\", \"Topic3\", \"Topic3\", \"Topic3\", \"Topic3\", \"Topic3\", \"Topic3\", \"Topic3\", \"Topic3\", \"Topic3\", \"Topic3\", \"Topic3\", \"Topic3\", \"Topic3\", \"Topic3\", \"Topic3\", \"Topic3\", \"Topic3\", \"Topic3\", \"Topic3\", \"Topic3\", \"Topic3\", \"Topic3\", \"Topic3\", \"Topic3\", \"Topic3\", \"Topic3\", \"Topic3\", \"Topic3\", \"Topic3\", \"Topic3\", \"Topic3\", \"Topic3\", \"Topic3\", \"Topic3\", \"Topic3\", \"Topic3\", \"Topic3\", \"Topic3\", \"Topic3\", \"Topic3\", \"Topic3\", \"Topic3\", \"Topic3\", \"Topic3\", \"Topic4\", \"Topic4\", \"Topic4\", \"Topic4\", \"Topic4\", \"Topic4\", \"Topic4\", \"Topic4\", \"Topic4\", \"Topic4\", \"Topic4\", \"Topic4\", \"Topic4\", \"Topic4\", \"Topic4\", \"Topic4\", \"Topic4\", \"Topic4\", \"Topic4\", \"Topic4\", \"Topic4\", \"Topic4\", \"Topic4\", \"Topic4\", \"Topic4\", \"Topic4\", \"Topic4\", \"Topic4\", \"Topic4\", \"Topic4\", \"Topic4\", \"Topic4\", \"Topic4\", \"Topic4\", \"Topic4\", \"Topic4\", \"Topic4\", \"Topic4\", \"Topic4\", \"Topic4\", \"Topic4\", \"Topic4\", \"Topic4\", \"Topic4\", \"Topic4\", \"Topic4\", \"Topic4\", \"Topic4\", \"Topic5\", \"Topic5\", \"Topic5\", \"Topic5\", \"Topic5\", \"Topic5\", \"Topic5\", \"Topic5\", \"Topic5\", \"Topic5\", \"Topic5\", \"Topic5\", \"Topic5\", \"Topic5\", \"Topic5\", \"Topic5\", \"Topic5\", \"Topic5\", \"Topic5\", \"Topic5\", \"Topic5\", \"Topic5\", \"Topic5\", \"Topic5\", \"Topic5\", \"Topic5\", \"Topic5\", \"Topic5\", \"Topic5\", \"Topic5\", \"Topic5\", \"Topic5\", \"Topic5\", \"Topic5\", \"Topic5\", \"Topic5\", \"Topic5\", \"Topic5\", \"Topic5\", \"Topic5\", \"Topic5\", \"Topic5\", \"Topic5\", \"Topic6\", \"Topic6\", \"Topic6\", \"Topic6\", \"Topic6\", \"Topic6\", \"Topic6\", \"Topic6\", \"Topic6\", \"Topic6\", \"Topic6\", \"Topic6\", \"Topic6\", \"Topic6\", \"Topic6\", \"Topic6\", \"Topic6\", \"Topic6\", \"Topic6\", \"Topic6\", \"Topic6\", \"Topic6\", \"Topic6\", \"Topic6\", \"Topic6\", \"Topic6\", \"Topic6\", \"Topic6\", \"Topic6\", \"Topic6\", \"Topic6\", \"Topic6\", \"Topic6\", \"Topic6\", \"Topic6\", \"Topic6\", \"Topic6\", \"Topic6\", \"Topic6\", \"Topic6\", \"Topic6\", \"Topic6\", \"Topic6\", \"Topic6\", \"Topic6\", \"Topic6\", \"Topic6\", \"Topic6\", \"Topic6\", \"Topic7\", \"Topic7\", \"Topic7\", \"Topic7\", \"Topic7\", \"Topic7\", \"Topic7\", \"Topic7\", \"Topic7\", \"Topic7\", \"Topic7\", \"Topic7\", \"Topic7\", \"Topic7\", \"Topic7\", \"Topic7\", \"Topic7\", \"Topic7\", \"Topic7\", \"Topic7\", \"Topic7\", \"Topic7\", \"Topic7\", \"Topic7\", \"Topic7\", \"Topic7\", \"Topic7\", \"Topic7\", \"Topic7\", \"Topic7\", \"Topic7\", \"Topic7\", \"Topic7\", \"Topic7\", \"Topic7\", \"Topic7\", \"Topic7\", \"Topic7\", \"Topic7\", \"Topic7\", \"Topic7\", \"Topic7\", \"Topic7\", \"Topic7\", \"Topic7\", \"Topic7\", \"Topic7\", \"Topic7\", \"Topic8\", \"Topic8\", \"Topic8\", \"Topic8\", \"Topic8\", \"Topic8\", \"Topic8\", \"Topic8\", \"Topic8\", \"Topic8\", \"Topic8\", \"Topic8\", \"Topic8\", \"Topic8\", \"Topic8\", \"Topic8\", \"Topic8\", \"Topic8\", \"Topic8\", \"Topic8\", \"Topic8\", \"Topic8\", \"Topic8\", \"Topic8\", \"Topic8\", \"Topic8\", \"Topic8\", \"Topic8\", \"Topic8\", \"Topic8\", \"Topic8\", \"Topic8\", \"Topic8\", \"Topic8\", \"Topic8\", \"Topic8\", \"Topic8\", \"Topic8\", \"Topic8\", \"Topic8\", \"Topic8\", \"Topic8\", \"Topic8\", \"Topic8\", \"Topic8\", \"Topic8\", \"Topic8\", \"Topic9\", \"Topic9\", \"Topic9\", \"Topic9\", \"Topic9\", \"Topic9\", \"Topic9\", \"Topic9\", \"Topic9\", \"Topic9\", \"Topic9\", \"Topic9\", \"Topic9\", \"Topic9\", \"Topic9\", \"Topic9\", \"Topic9\", \"Topic9\", \"Topic9\", \"Topic9\", \"Topic9\", \"Topic9\", \"Topic9\", \"Topic9\", \"Topic9\", \"Topic9\", \"Topic9\", \"Topic9\", \"Topic9\", \"Topic9\", \"Topic9\", \"Topic9\", \"Topic9\", \"Topic9\", \"Topic9\", \"Topic9\", \"Topic9\", \"Topic9\", \"Topic9\", \"Topic9\", \"Topic9\", \"Topic9\", \"Topic9\", \"Topic9\", \"Topic10\", \"Topic10\", \"Topic10\", \"Topic10\", \"Topic10\", \"Topic10\", \"Topic10\", \"Topic10\", \"Topic10\", \"Topic10\", \"Topic10\", \"Topic10\", \"Topic10\", \"Topic10\", \"Topic10\", \"Topic10\", \"Topic10\", \"Topic10\", \"Topic10\", \"Topic10\", \"Topic10\", \"Topic10\", \"Topic10\", \"Topic10\", \"Topic10\", \"Topic10\", \"Topic10\", \"Topic10\", \"Topic10\", \"Topic10\", \"Topic10\", \"Topic10\", \"Topic10\", \"Topic10\", \"Topic10\", \"Topic10\", \"Topic10\", \"Topic10\", \"Topic10\", \"Topic10\", \"Topic10\", \"Topic10\", \"Topic10\", \"Topic10\", \"Topic10\", \"Topic10\", \"Topic10\", \"Topic10\"], \"logprob\": [30.0, 29.0, 28.0, 27.0, 26.0, 25.0, 24.0, 23.0, 22.0, 21.0, 20.0, 19.0, 18.0, 17.0, 16.0, 15.0, 14.0, 13.0, 12.0, 11.0, 10.0, 9.0, 8.0, 7.0, 6.0, 5.0, 4.0, 3.0, 2.0, 1.0, -4.5352, -4.6682, -4.7464, -4.7572, -4.9202, -5.0261, -5.0489, -5.2266, -5.2429, -5.3225, -5.3518, -5.3701, -5.3768, -5.44, -5.5343, -5.608, -5.6287, -5.6392, -5.6708, -5.6801, -5.6953, -5.6959, -5.6978, -5.7234, -5.7409, -5.7431, -5.7579, -5.7681, -5.7785, -5.8072, -1.8459, -5.1829, -4.3931, -4.7319, -5.3921, -5.2058, -5.255, -5.2369, -5.2994, -3.6324, -4.468, -5.5009, -4.9909, -4.8914, -4.7863, -4.9631, -5.02, -5.1637, -5.2328, -5.2306, -5.2352, -4.5033, -4.5644, -4.6205, -4.6594, -4.8232, -4.875, -4.9114, -4.9902, -5.005, -5.1292, -5.1475, -5.1611, -5.1961, -5.202, -5.225, -5.2876, -5.2915, -5.3748, -5.4063, -5.4682, -5.4689, -5.4712, -5.5058, -5.5417, -5.553, -5.5791, -5.5895, -5.6549, -5.6858, -5.6889, -4.2772, -3.8093, -4.7832, -4.5105, -5.0835, -4.4713, -3.7896, -5.2097, -4.146, -5.195, -4.5203, -4.5192, -5.1053, -5.0954, -5.2091, -5.1942, -5.1955, -5.2083, -3.9828, -4.0764, -4.3486, -4.5419, -4.7344, -4.8225, -4.8512, -4.8666, -4.8908, -4.902, -4.9693, -5.0395, -5.0742, -5.1542, -5.2498, -5.2981, -5.3311, -5.3427, -5.3524, -5.3917, -5.4639, -5.4737, -5.4794, -5.5422, -5.551, -5.6022, -5.6096, -5.6268, -5.6414, -5.6472, -4.2325, -4.9281, -4.688, -4.0353, -4.6849, -4.215, -4.7084, -5.2171, -5.165, -5.2113, -4.7458, -5.2532, -4.7592, -4.9296, -4.9296, -4.2709, -4.6847, -4.7293, -4.8305, -4.8818, -4.9529, -4.9554, -4.9931, -5.0904, -5.1242, -5.1596, -5.1711, -5.1715, -5.2215, -5.2233, -5.2447, -5.2493, -5.33, -5.3465, -5.3645, -5.3888, -5.4044, -5.4311, -5.4523, -5.4852, -5.5022, -5.5573, -5.5598, -5.566, -5.5682, -4.1524, -4.4664, -4.9508, -5.0585, -4.8059, -4.6898, -5.2483, -4.9904, -4.6073, -4.7751, -4.8443, -4.9229, -4.938, -4.8887, -5.002, -5.1744, -5.1523, -5.205, -4.0771, -4.2956, -4.5801, -4.6118, -4.6588, -4.6969, -4.7286, -4.7463, -4.8085, -4.8255, -4.9977, -5.0553, -5.0712, -5.0919, -5.1083, -5.1425, -5.1516, -5.1784, -5.1929, -5.2871, -5.4172, -5.4218, -5.4356, -5.4582, -5.4586, -5.4846, -5.4883, -5.5002, -5.5042, -5.53, -4.865, -4.7085, -5.099, -4.7081, -5.183, -4.5434, -4.9375, -3.1164, -4.9673, -4.9728, -4.1954, -4.9457, -5.0106, -3.9015, -4.3875, -4.4682, -4.7844, -4.9385, -4.9607, -4.9759, -5.0477, -5.113, -5.1745, -5.1944, -5.2459, -5.2509, -5.2744, -5.2856, -5.3023, -5.3235, -5.3236, -5.3889, -5.4317, -5.4365, -5.4386, -5.4543, -5.4997, -5.5102, -5.5528, -5.5542, -5.5628, -5.5887, -5.6008, -3.8838, -4.5762, -4.2461, -4.6854, -5.0327, -4.8198, -4.976, -4.1996, -4.6554, -4.516, -4.5706, -4.9119, -4.1318, -4.3445, -4.7895, -4.828, -5.0644, -5.1196, -5.0942, -4.1068, -4.2651, -4.7269, -4.7701, -4.8072, -4.8974, -4.953, -4.9719, -5.0015, -5.0475, -5.0659, -5.0877, -5.1207, -5.1275, -5.2006, -5.2149, -5.2788, -5.3162, -5.33, -5.353, -5.4034, -5.455, -5.4653, -5.4916, -5.5125, -5.5239, -5.5284, -5.557, -5.5955, -5.6268, -4.9784, -4.2462, -4.6951, -4.7356, -4.7379, -4.7634, -4.7992, -5.1303, -4.1882, -4.7957, -4.955, -4.7997, -4.8356, -4.8455, -4.8984, -4.6109, -4.4085, -4.6278, -3.8703, -3.8758, -4.5012, -4.6189, -4.7229, -4.7327, -4.7625, -5.0327, -5.0858, -5.165, -5.1911, -5.2041, -5.2722, -5.2909, -5.3124, -5.3172, -5.3577, -5.3691, -5.444, -5.4612, -5.469, -5.4846, -5.5117, -5.5246, -5.5259, -5.5458, -5.5576, -5.5584, -5.5646, -5.5955, -4.1604, -4.472, -4.6498, -4.6309, -4.1952, -3.8259, -4.8782, -5.0482, -5.0826, -5.0935, -5.092, -4.3704, -5.0859, -5.2129, -5.1135, -5.1458, -5.2649, -4.2888, -4.389, -4.4285, -4.5301, -4.6172, -4.7466, -4.8383, -4.8704, -4.94, -4.9535, -4.9565, -4.9861, -5.0347, -5.0435, -5.0718, -5.1228, -5.1881, -5.2014, -5.2253, -5.2451, -5.2486, -5.255, -5.2912, -5.367, -5.3715, -5.3791, -5.4076, -5.4257, -5.4497, -5.4529, -3.7137, -4.9461, -4.1322, -4.8763, -4.8748, -4.816, -5.119, -4.9432, -4.5792, -5.0667, -5.0478, -4.9872, -5.0821, -5.1309, -4.4359, -4.4759, -4.59, -4.709, -4.8013, -4.8015, -4.8304, -4.9197, -4.9422, -5.0725, -5.0757, -5.142, -5.1501, -5.1518, -5.1582, -5.1677, -5.2235, -5.2657, -5.2989, -5.3367, -5.3556, -5.386, -5.3905, -5.4336, -5.4433, -5.4551, -5.4748, -5.4785, -5.5095, -5.5873, -4.24, -4.3987, -4.4487, -4.8628, -5.0371, -4.963, -5.1809, -4.8293, -4.8255, -4.6841, -5.0369, -4.581, -5.1452, -5.0684, -4.4561, -4.9673, -5.1275, -5.1053], \"loglift\": [30.0, 29.0, 28.0, 27.0, 26.0, 25.0, 24.0, 23.0, 22.0, 21.0, 20.0, 19.0, 18.0, 17.0, 16.0, 15.0, 14.0, 13.0, 12.0, 11.0, 10.0, 9.0, 8.0, 7.0, 6.0, 5.0, 4.0, 3.0, 2.0, 1.0, 1.98, 1.9792, 1.9787, 1.9786, 1.9774, 1.9765, 1.9763, 1.9745, 1.9743, 1.9734, 1.9731, 1.9728, 1.9727, 1.9719, 1.9706, 1.9694, 1.9691, 1.9689, 1.9684, 1.9683, 1.968, 1.968, 1.9679, 1.9675, 1.9672, 1.9671, 1.9669, 1.9667, 1.9665, 1.9659, 1.8037, 1.8925, 1.7626, 1.7021, 1.8713, 1.7925, 1.7962, 1.782, 1.8024, 0.8553, 1.2999, 1.825, 1.1906, 1.0197, 0.2649, 0.6297, 0.5624, 0.7195, 0.7342, 0.7069, 0.6259, 2.2419, 2.2415, 2.2411, 2.2408, 2.2393, 2.2388, 2.2385, 2.2376, 2.2375, 2.236, 2.2357, 2.2355, 2.2351, 2.235, 2.2347, 2.2338, 2.2337, 2.2324, 2.2319, 2.2308, 2.2308, 2.2308, 2.2301, 2.2294, 2.2292, 2.2287, 2.2285, 2.2271, 2.2265, 2.2264, 2.0268, 1.9102, 2.0319, 1.8514, 2.0452, 1.7682, 1.4226, 2.0133, 1.0972, 1.9341, 1.0725, 1.0631, 1.786, 1.4755, 1.7774, 0.8708, 0.49, 0.9731, 2.2586, 2.2582, 2.2567, 2.2555, 2.2539, 2.2531, 2.2528, 2.2527, 2.2524, 2.2523, 2.2516, 2.2508, 2.2504, 2.2493, 2.248, 2.2473, 2.2468, 2.2466, 2.2464, 2.2458, 2.2445, 2.2443, 2.2442, 2.2431, 2.2429, 2.2418, 2.2417, 2.2413, 2.241, 2.2409, 2.0705, 2.0968, 2.0431, 1.8146, 1.9889, 1.6097, 1.652, 2.009, 1.9461, 1.9725, 1.27, 2.0064, 0.484, 0.8383, 0.1215, 2.2624, 2.2596, 2.2592, 2.2583, 2.2578, 2.257, 2.257, 2.2566, 2.2554, 2.255, 2.2545, 2.2543, 2.2543, 2.2536, 2.2536, 2.2533, 2.2532, 2.252, 2.2517, 2.2514, 2.251, 2.2508, 2.2503, 2.2499, 2.2493, 2.249, 2.248, 2.2479, 2.2478, 2.2477, 1.8197, 1.8651, 2.0138, 2.018, 1.8162, 1.6768, 2.0641, 1.7982, 1.2427, 1.2989, 0.8412, 1.0441, 1.088, 0.1624, 0.5908, 0.7623, 0.0599, 1.2861, 2.3244, 2.3232, 2.3212, 2.321, 2.3206, 2.3202, 2.3199, 2.3198, 2.3192, 2.319, 2.3171, 2.3163, 2.3161, 2.3159, 2.3156, 2.3152, 2.315, 2.3146, 2.3144, 2.313, 2.3107, 2.3106, 2.3104, 2.3099, 2.3099, 2.3094, 2.3094, 2.3091, 2.309, 2.3085, 2.1307, 2.0472, 2.1168, 1.9158, 2.1533, 1.7617, 1.9265, 0.5332, 1.9359, 1.8655, 0.2923, 1.6504, 0.911, 2.3302, 2.3276, 2.327, 2.3244, 2.3227, 2.3224, 2.3223, 2.3214, 2.3205, 2.3196, 2.3193, 2.3186, 2.3185, 2.3181, 2.3179, 2.3177, 2.3173, 2.3173, 2.3162, 2.3154, 2.3153, 2.3152, 2.3149, 2.3141, 2.3139, 2.313, 2.3129, 2.3128, 2.3122, 2.3119, 1.9994, 2.1039, 1.8189, 1.9355, 2.0833, 1.9339, 2.0208, 1.4859, 1.6927, 1.366, 1.3661, 1.7294, 0.3558, 0.7066, 1.3481, 0.7543, 1.313, 1.5718, 0.8274, 2.3585, 2.3576, 2.354, 2.3536, 2.3532, 2.3523, 2.3516, 2.3514, 2.351, 2.3504, 2.3502, 2.3499, 2.3494, 2.3493, 2.3482, 2.348, 2.347, 2.3463, 2.3461, 2.3457, 2.3448, 2.3438, 2.3436, 2.343, 2.3426, 2.3424, 2.3423, 2.3416, 2.3408, 2.3401, 2.2754, 2.1846, 2.142, 2.1283, 2.079, 2.0567, 2.0648, 2.1916, 1.7229, 1.7826, 1.8834, 1.7007, 1.7353, 1.6275, 1.7162, 1.1086, 0.0791, 0.6153, 2.4095, 2.4095, 2.4057, 2.4047, 2.4037, 2.4036, 2.4033, 2.4, 2.3993, 2.3981, 2.3977, 2.3975, 2.3963, 2.396, 2.3956, 2.3955, 2.3948, 2.3946, 2.3931, 2.3927, 2.3926, 2.3922, 2.3917, 2.3914, 2.3913, 2.3909, 2.3906, 2.3906, 2.3905, 2.3897, 2.2859, 2.223, 2.1693, 2.1545, 1.7793, 1.2252, 1.9216, 2.0461, 1.9112, 1.8465, 1.8115, 0.1172, 0.7752, 1.0922, 0.0987, 0.0974, 1.3313, 2.4204, 2.4197, 2.4194, 2.4186, 2.4178, 2.4165, 2.4155, 2.4152, 2.4143, 2.4142, 2.4141, 2.4137, 2.4131, 2.4129, 2.4125, 2.4118, 2.4108, 2.4106, 2.4102, 2.4098, 2.4098, 2.4097, 2.409, 2.4076, 2.4075, 2.4074, 2.4068, 2.4065, 2.406, 2.4059, 2.0901, 2.2712, 1.7356, 2.0756, 1.97, 1.7624, 2.0948, 1.4267, -0.0916, 1.7317, 0.7769, 0.225, 0.8899, 0.8066, 2.4746, 2.4743, 2.4733, 2.4721, 2.4711, 2.4711, 2.4707, 2.4696, 2.4693, 2.4674, 2.4674, 2.4664, 2.4662, 2.4662, 2.4661, 2.4659, 2.465, 2.4642, 2.4636, 2.4629, 2.4625, 2.4619, 2.4618, 2.4609, 2.4606, 2.4604, 2.4599, 2.4599, 2.4591, 2.4573, 2.1904, 2.2049, 2.0182, 2.1436, 2.2191, 2.1439, 2.2463, 1.9381, 1.8772, 1.7253, 1.9987, 1.2228, 2.1611, 1.9219, 0.0315, 1.5506, 1.93, 1.4756]}, \"token.table\": {\"Topic\": [8, 7, 1, 5, 7, 7, 4, 9, 3, 2, 6, 3, 5, 1, 9, 3, 4, 9, 4, 8, 1, 3, 4, 5, 6, 7, 8, 9, 9, 3, 8, 2, 5, 7, 1, 4, 7, 4, 3, 3, 3, 9, 6, 5, 7, 1, 4, 6, 9, 5, 5, 6, 3, 2, 10, 10, 9, 6, 2, 4, 10, 1, 3, 5, 6, 7, 8, 9, 10, 8, 9, 9, 10, 5, 2, 10, 1, 3, 4, 6, 8, 1, 7, 10, 10, 1, 10, 2, 3, 4, 2, 8, 4, 2, 5, 7, 8, 2, 2, 9, 3, 3, 4, 6, 7, 10, 9, 9, 2, 5, 1, 2, 4, 6, 8, 9, 6, 4, 4, 5, 7, 2, 9, 6, 5, 1, 9, 2, 9, 3, 6, 8, 2, 3, 7, 9, 6, 7, 8, 1, 7, 8, 10, 4, 5, 8, 4, 1, 7, 3, 4, 9, 1, 10, 8, 1, 5, 9, 7, 5, 8, 4, 1, 2, 3, 6, 7, 8, 10, 2, 7, 10, 3, 10, 1, 3, 7, 5, 6, 4, 1, 10, 9, 4, 8, 2, 4, 8, 5, 7, 3, 9, 4, 9, 5, 2, 5, 8, 9, 3, 8, 10, 7, 6, 6, 8, 9, 10, 4, 2, 3, 6, 4, 6, 7, 3, 2, 10, 2, 3, 6, 10, 3, 9, 3, 4, 2, 2, 7, 3, 1, 8, 4, 2, 4, 5, 6, 3, 6, 2, 8, 6, 2, 7, 10, 5, 10, 5, 1, 3, 3, 10, 10, 4, 8, 1, 8, 2, 3, 5, 7, 8, 7, 3, 4, 6, 4, 8, 2, 5, 7, 1, 4, 10, 7, 3, 6, 10, 9, 7, 6, 6, 2, 9, 3, 6, 1, 7, 5, 8, 8, 8, 1, 4, 2, 10, 3, 10, 5, 9, 5, 8, 9, 1, 7, 7, 3, 4, 1, 3, 4, 1, 3, 6, 2, 9, 10, 7, 1, 6, 7, 8, 2, 1, 4, 5, 7, 8, 3, 9, 8, 1, 2, 3, 8, 7, 2, 4, 8, 10, 5, 8, 7, 10, 4, 6, 7, 1, 2, 3, 5, 6, 7, 8, 3, 4, 6, 7, 9, 7, 1, 1, 2, 6, 9, 3, 5, 8, 9, 9, 10, 1, 4, 3, 10, 2, 6, 3, 6, 4, 10, 5, 9, 1, 4, 3, 5, 1, 7, 1, 2, 9, 1, 2, 3, 4, 5, 8, 9, 2, 4, 7, 8, 4, 6, 2, 5, 5, 8, 7, 4, 3, 4, 5, 3, 9, 7, 10, 2, 5, 2, 4, 5, 10, 6, 5, 2, 6, 10, 2, 3, 4, 5, 6, 8, 9, 4, 1, 10, 8, 3, 5, 8, 9, 6, 4, 9, 10, 6, 1, 3, 8, 1, 4, 2, 9, 1, 10, 4, 7, 6, 10, 5, 1, 7, 8, 1, 2, 5, 7, 7, 5, 1, 4, 1, 4, 10, 1, 10, 3, 8, 9, 5, 9, 10, 9, 4, 8, 8, 5, 9, 1, 7, 8, 9, 8, 2, 7, 10, 5, 6, 4, 7, 1, 10, 10, 5, 6, 9, 10, 9, 6, 2, 2, 7, 2, 6, 2, 7, 2, 9, 10, 3, 2, 10, 6, 9, 2, 5, 1, 2, 3, 4, 6, 8, 2, 8, 9, 9, 2, 3, 4, 5, 8, 1, 5, 8, 5, 7, 2, 2, 7, 9, 1, 2, 3, 4, 6, 10, 4, 7, 2, 3, 10, 2, 1, 7, 8, 10, 1, 7, 1, 2, 4, 7, 8, 10, 3, 7, 10, 6, 5, 3, 4, 1, 2, 6, 8, 1, 1, 3, 1, 3, 4, 5, 7, 8, 1, 9, 5, 3, 7, 5, 6, 2, 4, 6, 4, 2, 5, 4, 4, 1, 10, 1, 3, 4, 6, 7, 4, 4, 5, 6, 8, 9, 6, 2, 7, 5, 3, 8, 1, 5, 1, 8, 10, 6, 6, 6, 4, 1, 1, 2, 4, 8, 9, 10, 10, 3, 6, 1, 6, 1, 6, 10, 6, 9, 10, 5, 1, 3, 4, 6, 8, 5, 7, 8, 1, 5, 2, 1, 6, 7, 1, 2, 1, 2, 3, 5, 6, 7, 8, 6, 1, 2, 5, 6, 8, 9, 10, 8, 5, 3, 7, 8, 9, 3], \"Freq\": [0.9824618359267467, 0.9838762350105277, 0.9762666112488435, 0.9729654167630569, 0.9789269857608052, 0.9789035526053292, 0.986364331871269, 0.9884671898890627, 0.9897932361262686, 0.9877213837702857, 0.9802164363647001, 0.974206185591176, 0.9962590631535553, 0.811020852255009, 0.1707412320536861, 0.1435297057396486, 0.6387071905414362, 0.21529455860947289, 0.9938843969006598, 0.9778323029394173, 0.2581679003887455, 0.18440564313481822, 0.1575830041333901, 0.013411319500714053, 0.08717357675464134, 0.023469809126249592, 0.19446413276035376, 0.08382074687946282, 0.9830375434730039, 0.7632652498101561, 0.2342695321199489, 0.15538512692903614, 0.6672420156364492, 0.17366573009715802, 0.2472807431832491, 0.18546055738743683, 0.5563816721623105, 0.990424617465994, 0.9819331806024454, 0.9939211709144755, 0.1301290116033423, 0.8588514765820592, 0.9706782221633373, 0.20105987302277678, 0.7859613218163092, 0.25644534233214794, 0.2127950712968887, 0.5238032524231107, 0.9877471321307171, 0.987564789551444, 0.992932882828143, 0.978395882773776, 0.9891997748028922, 0.9844522786515295, 0.9729740133525959, 0.9906461988842086, 0.9945264269756421, 0.9765775253187254, 0.6167668475063092, 0.24964372399064894, 0.12726934948542887, 0.32262041421987264, 0.039054050142405636, 0.13074616786805365, 0.13838717767852432, 0.10188013080627557, 0.10018212862617097, 0.08065510355496816, 0.08659811118533424, 0.984123247730394, 0.9867928627973936, 0.9892491404727486, 0.9655576583264377, 0.9772528385152964, 0.9736003914140404, 0.9784371298094282, 0.5039890745104376, 0.24130385991711864, 0.1527239619728599, 0.051926147070772366, 0.04887166783131517, 0.3806508745241875, 0.5251572250379994, 0.09163817349656365, 0.9908296026109583, 0.9854939134912652, 0.9902534726375288, 0.10196649722753345, 0.22539962545033712, 0.6708322186021938, 0.9864720746664991, 0.9838712144612599, 0.9915761751613056, 0.09407767328154247, 0.5644660396892548, 0.07317152366342192, 0.26655340763103696, 0.9836107842644963, 0.7852317466509168, 0.1963079366627292, 0.9816323955939233, 0.9729986885059783, 0.10241479018036861, 0.5486506616805461, 0.13899150095907167, 0.21214492251647785, 0.9770050217258477, 0.9853490211571547, 0.9806329840484477, 0.9957710336873142, 0.24102164428297657, 0.3044483927784967, 0.06342674849552016, 0.2055026651254853, 0.08626037795390741, 0.09640865771319063, 0.9717727575813323, 0.9927843695511634, 0.9946333610383249, 0.9682286338436285, 0.9835406730188933, 0.9784118389518944, 0.9850039425838764, 0.9725580685787453, 0.9920704665083212, 0.9757375308010122, 0.9839981737154015, 0.9901605866593307, 0.9948072186946785, 0.9925962707744228, 0.9787774931843398, 0.9730477053539707, 0.18427614064268363, 0.5204992744468784, 0.10022035719163495, 0.19074197013891814, 0.24413549885877342, 0.749844746494804, 0.9737950041540404, 0.302987689192783, 0.22724076689458728, 0.10329125767935785, 0.3649624438003977, 0.330709486931518, 0.661418973863036, 0.9864344456902943, 0.9932267650904344, 0.9727135309472784, 0.9875463708754755, 0.9958944360417751, 0.9823654028526486, 0.9770753391844729, 0.98874189371474, 0.9866460819796982, 0.9815277876608743, 0.9812702308131596, 0.9757731694078124, 0.9858307162770592, 0.9638578508690484, 0.980265718855057, 0.9797608961362234, 0.9934833113549042, 0.09398082871067862, 0.3162816350840146, 0.1680810975017906, 0.06687097427490593, 0.17350306838894514, 0.09940279959783314, 0.08132956330731803, 0.7129989598522292, 0.2851995839408916, 0.9821764332907595, 0.824110795596524, 0.17212440667522336, 0.9755711423356562, 0.9728875705307686, 0.9850098874918729, 0.9907025662396073, 0.9687986697080908, 0.9935811121807624, 0.8857269642343099, 0.09538598076369491, 0.9855934667365969, 0.9879733385388108, 0.968319535368712, 0.9902273760512501, 0.11436360464463625, 0.8787940146377312, 0.9711034264028819, 0.9776519321801856, 0.99103493319823, 0.984815931998006, 0.2894367089155341, 0.7086209080345836, 0.9922518125954204, 0.14684272599248333, 0.5104532855929182, 0.33564051655424765, 0.9913244837290052, 0.29917806934750457, 0.6904109292634721, 0.9892345407768139, 0.9784158803722851, 0.9771702740563767, 0.28427969716317375, 0.13343740887251013, 0.11603252945435663, 0.4699317442901444, 0.9708516827904261, 0.25077646392687153, 0.14799922461257992, 0.5961079880228913, 0.2492970597192867, 0.22080596717993967, 0.5199624388430837, 0.9955413426181658, 0.9831029639227177, 0.9813057898515436, 0.0933425991340108, 0.15557099855668466, 0.20224229812369007, 0.5444984949483963, 0.9813167201728572, 0.9911520034576569, 0.8003546503582939, 0.19208511608599055, 0.9908201380887708, 0.9863142034096203, 0.9711296842977529, 0.987005193615866, 0.9859416163434238, 0.9930148947141916, 0.9914125666220054, 0.17158180511783136, 0.2390894005740273, 0.15751772273112388, 0.42754810455590764, 0.7737834248342329, 0.2172023648657496, 0.9808969480927444, 0.9937378717482277, 0.965226200526816, 0.22240164569315374, 0.5147009514612986, 0.26052764209769436, 0.24881098400577392, 0.7464329520173217, 0.9893181916408047, 0.8347631815007038, 0.16231506306958132, 0.9850824887872427, 0.9900026280134774, 0.9797929549261322, 0.7799966102686636, 0.21478167529137115, 0.8558452047897791, 0.13055265835776292, 0.6198841097080035, 0.37193046582480205, 0.1665260768018986, 0.2185654758024919, 0.6036570284068824, 0.9821181232843406, 0.23345116870326005, 0.555836115960143, 0.2056593629052529, 0.7783553321011561, 0.21227872693667896, 0.9853920376416809, 0.6325059094803425, 0.3652498913900569, 0.23871279441914103, 0.13020697877407691, 0.6184831491768654, 0.9882714393226671, 0.25510736722799254, 0.16637436993129948, 0.5767644824285049, 0.9813617264380533, 0.9946899358973751, 0.9740386309985459, 0.9845500955630972, 0.6293412747622469, 0.3663329808317557, 0.987687676363428, 0.9738741488141534, 0.9921951973334491, 0.9927973085599058, 0.9687970678484021, 0.9809091964573959, 0.9820062286406211, 0.9674467041235434, 0.9811267930729811, 0.9722043082549419, 0.9918384439610972, 0.9797567019035072, 0.9949951520389163, 0.9775402011606285, 0.9957053696744015, 0.9860752089832244, 0.9872262292101847, 0.9666782519064314, 0.9911153559803015, 0.3741966267642333, 0.614751601112669, 0.9750312858976427, 0.6398871183420275, 0.3580715480877667, 0.9930838681266289, 0.9910739489720136, 0.9842138888017596, 0.8258907813246495, 0.1672690190024607, 0.9925854234202772, 0.3039036037238096, 0.2974375696020264, 0.3944280814287741, 0.9754269309121257, 0.3225633435676386, 0.6737989843412896, 0.16982028678377964, 0.8259441220847464, 0.9677239337456811, 0.2040223978953635, 0.043277478341440745, 0.16074491955392275, 0.4760522617558482, 0.1051024474006418, 0.9877186956526806, 0.9831943161933927, 0.992254834969015, 0.982179807521294, 0.9921319625005723, 0.9919209627444181, 0.9940773897845627, 0.9842974438187468, 0.9875251025107225, 0.9887705591152095, 0.9864210224799572, 0.9963557281112253, 0.21967925103963878, 0.7688773786387357, 0.8356597791834172, 0.1600199577159735, 0.9821156321041273, 0.08098947407350575, 0.9178807061663985, 0.10329445697223259, 0.12466572393200485, 0.19590328046457905, 0.2422076922107523, 0.22083642525098005, 0.049866289572801946, 0.06055192305268808, 0.14825640016345654, 0.22057659536514265, 0.37968102480885213, 0.10486428304244487, 0.14102438064328793, 0.9886807502810271, 0.9825332909898064, 0.4526466940561751, 0.2771306290139848, 0.12932762687319288, 0.13394647069009263, 0.9781938931575123, 0.20544094058649182, 0.29104133249753006, 0.4964822730840219, 0.9894131987745912, 0.9902946736334388, 0.9799951900112914, 0.9866255396164443, 0.9716033673920297, 0.9882579385565335, 0.2609568162825129, 0.730679085591036, 0.9876558627810815, 0.9801884343922593, 0.28456883237009895, 0.7166918741172863, 0.9898827365092118, 0.9917731011037316, 0.9147202897540072, 0.07904990158367964, 0.7745622779993834, 0.21005078725407006, 0.9889893936089067, 0.973593364435997, 0.26789903457773523, 0.21294538645922542, 0.5151904511110292, 0.09987652185880135, 0.43805492043333927, 0.07359322663280099, 0.11038983994920148, 0.06833656758760093, 0.098124302177068, 0.11038983994920148, 0.6693787705850401, 0.16042962270219968, 0.16042962270219968, 0.9887735992217979, 0.9728587080987819, 0.975954735080778, 0.18191378427143987, 0.8056181874878051, 0.4468780533395231, 0.5514665339083477, 0.9954914751423783, 0.9937905961402504, 0.21191344949725774, 0.627263810511883, 0.16105422161791588, 0.967203578111984, 0.9943173584397114, 0.977372488964087, 0.9867085928208031, 0.8007790814490201, 0.1914906499117222, 0.2592847040125588, 0.03111416448150706, 0.12445665792602824, 0.5704263488276294, 0.9927525785525696, 0.9707012876431023, 0.1536194083430856, 0.21506717168031986, 0.6267671860397893, 0.15170288532943238, 0.09551663150371668, 0.14046563456428923, 0.10675388226885982, 0.35959202448458044, 0.14046563456428923, 0.98870012750872, 0.9945178780285597, 0.9801713186407283, 0.9891192817094613, 0.9888272220115016, 0.5413060053053498, 0.14913532799229023, 0.1325647359931469, 0.17122945065781472, 0.9868519771655289, 0.6368551933939554, 0.21353380013797327, 0.14235586675864884, 0.9923252352387876, 0.9886043275988557, 0.20973725967616688, 0.7865147237856258, 0.9802835183532653, 0.9766681517278603, 0.7268289726340638, 0.2621350393106459, 0.9778752242542597, 0.9915607817035809, 0.9840396407850248, 0.988196970584501, 0.1926381245600554, 0.786605675286893, 0.9870070482271477, 0.9943386067268198, 0.9878816444467362, 0.9846484258359934, 0.9889060312790723, 0.9729207539006038, 0.8355305120528368, 0.1465843003601468, 0.9832305166222669, 0.9765602916074646, 0.7551220736553592, 0.2437795670855884, 0.9925553368234061, 0.9785331308475381, 0.9929303672454806, 0.27967355500767144, 0.7108369523111648, 0.7255259390644051, 0.25744468805511145, 0.9869345359848012, 0.27232283389436, 0.7132264697233239, 0.973311334218764, 0.986247468354584, 0.9872912871035981, 0.9782107309250304, 0.9778107099384649, 0.9880208038970937, 0.9886845116802508, 0.14792445027218112, 0.23667912043548978, 0.5621129110342883, 0.04930815009072704, 0.9817004174286124, 0.9831508829924579, 0.9894255226456762, 0.9877120497151598, 0.9950023630178844, 0.9854488495951477, 0.2536889974475574, 0.7348233029515456, 0.9899992684231219, 0.9914253277531458, 0.9779592940407174, 0.1687588176213357, 0.17213399397376242, 0.4995261001591537, 0.15525811221162886, 0.9694338005037999, 0.9796052012825148, 0.9719686107786587, 0.46361115460781804, 0.531789265579556, 0.21167886880760337, 0.7761558522945456, 0.809828294164978, 0.1786385943010981, 0.7988626588032535, 0.19318900899163646, 0.9958667801396962, 0.9904454951594107, 0.23952555807738665, 0.7608458903634635, 0.7909571624296683, 0.19773929060741707, 0.9866067860484178, 0.9919059600518473, 0.17898627793399347, 0.08054382507029706, 0.11783263297321236, 0.1223072899215622, 0.1968849057273928, 0.3042766724877889, 0.9938679903521743, 0.35865619413608146, 0.6366147445915445, 0.9830999125574855, 0.1888575463266149, 0.1762670432381739, 0.3777150926532298, 0.13849553397285091, 0.11960977934018943, 0.17725551862108754, 0.8237168218274068, 0.9865957777011836, 0.2559291364016237, 0.7403664303046971, 0.9950891544720385, 0.988818114529579, 0.8007905945095387, 0.19574881199122057, 0.2869943501751251, 0.1528151734698718, 0.13417917670525328, 0.2944487488809725, 0.08199838576432145, 0.04845359158800813, 0.144473541266868, 0.8379465393478344, 0.9908485595703488, 0.9874917375248266, 0.9678533243353824, 0.9857403739498418, 0.9869120325010663, 0.9898118087263803, 0.9746580418739365, 0.9777740268737475, 0.9854429260715593, 0.9940760686667103, 0.1327511079551953, 0.1493449964495947, 0.37751096324758665, 0.10786027521359619, 0.04978166548319824, 0.18253277343839355, 0.05690109818861872, 0.2133791182073202, 0.7254890019048886, 0.9923224407310087, 0.9889016874639608, 0.8481295760436541, 0.13956562643756334, 0.3307317474597016, 0.192285899685873, 0.46917759523353014, 0.981144919649357, 0.9936522912787485, 0.9781162865044885, 0.9936569298075147, 0.16210905257596506, 0.13838577658923845, 0.30840258782744573, 0.19374008722493385, 0.13838577658923845, 0.05535431063569538, 0.826607401424761, 0.1653214802849522, 0.9921465911997138, 0.9909299277632058, 0.9909853234322588, 0.9852295215643448, 0.9876845736128529, 0.9911601233663668, 0.8158021943564152, 0.17174783039082425, 0.9822990792921066, 0.3136809693030123, 0.6748893581973902, 0.9687410307743127, 0.9955695119263096, 0.41490706197150207, 0.580869886760103, 0.19567547562424906, 0.3717834036860732, 0.09001071878715457, 0.18002143757430913, 0.16045389001188423, 0.9904496082928117, 0.1059551522001243, 0.1840273696107422, 0.22864006527395245, 0.1059551522001243, 0.3680547392214844, 0.9720768718303667, 0.9801303007645906, 0.9891886293063171, 0.9714707485389499, 0.9938968334523434, 0.9885718865670388, 0.8336712384534654, 0.1659997355863288, 0.9705914520464215, 0.21647088251172178, 0.7711775189480088, 0.9898356796077058, 0.9749634860893717, 0.9792313849976311, 0.9946988091966399, 0.9879473129101944, 0.25894279233976686, 0.30765480277992097, 0.1871566716911186, 0.09742402088030831, 0.09742402088030831, 0.05127580046332016, 0.9822770029018729, 0.742505582898519, 0.23911196737409934, 0.28107110686872755, 0.7163885528727324, 0.997053496809847, 0.9807657943994763, 0.9826333257270748, 0.9956414060477254, 0.7123768877812765, 0.2849507551125106, 0.9942991000377037, 0.1989202603105925, 0.06188630320773989, 0.25638611328920813, 0.37131781924643936, 0.11051125572810695, 0.23144232420763539, 0.14572294487147414, 0.608607593286745, 0.2378679321957347, 0.7546155090347446, 0.9915613819340303, 0.3274168497294319, 0.6712045419453354, 0.993893224373105, 0.8012281264626157, 0.19805639081098364, 0.18829623763597667, 0.047929951398248606, 0.04450638344123085, 0.15063699010878134, 0.3800160432289711, 0.16090769397983462, 0.027388543656142062, 0.9847799361874289, 0.278650301658842, 0.18817942449688033, 0.05428252629717702, 0.16646641397800951, 0.07961437190252629, 0.19903592975631573, 0.03256951577830621, 0.9695846669801925, 0.9913250445758246, 0.17275327805072604, 0.17650878409530704, 0.5295263522859212, 0.11642068738201103, 0.993640533908987], \"Term\": [\"abuse\", \"act\", \"action\", \"activist\", \"add\", \"admit\", \"advance\", \"aid\", \"aleppo\", \"allow\", \"alternative\", \"ambassador\", \"american\", \"anti\", \"anti\", \"arrest\", \"arrest\", \"arrest\", \"art\", \"article\", \"attack\", \"attack\", \"attack\", \"attack\", \"attack\", \"attack\", \"attack\", \"attack\", \"away\", \"back\", \"back\", \"bad\", \"bad\", \"bad\", \"ban\", \"ban\", \"ban\", \"bank\", \"battle\", \"become\", \"begin\", \"begin\", \"bias\", \"bill\", \"bill\", \"black\", \"black\", \"black\", \"blast\", \"block\", \"body\", \"bomb\", \"bombing\", \"bombshell\", \"bond\", \"book\", \"border\", \"boy\", \"break\", \"break\", \"break\", \"breitbart\", \"breitbart\", \"breitbart\", \"breitbart\", \"breitbart\", \"breitbart\", \"breitbart\", \"breitbart\", \"brexit\", \"briefing\", \"bring\", \"budget\", \"build\", \"burn\", \"buy\", \"call\", \"call\", \"call\", \"call\", \"call\", \"campaign\", \"campaign\", \"campaign\", \"cancel\", \"candidate\", \"car\", \"case\", \"case\", \"case\", \"celebrate\", \"challenge\", \"charge\", \"child\", \"child\", \"child\", \"child\", \"choice\", \"city\", \"city\", \"civil_right\", \"civilian\", \"claim\", \"claim\", \"claim\", \"claim\", \"clash\", \"close\", \"college\", \"come\", \"comment\", \"comment\", \"comment\", \"comment\", \"comment\", \"comment\", \"community\", \"company\", \"confirm\", \"conservative\", \"continue\", \"control\", \"cop\", \"corruption\", \"cost\", \"coulter\", \"country\", \"create\", \"crime\", \"crisis\", \"daily\", \"datum\", \"day\", \"day\", \"day\", \"day\", \"dead\", \"dead\", \"deadly\", \"deal\", \"deal\", \"deal\", \"deal\", \"death\", \"death\", \"debate\", \"declare\", \"defend\", \"democracy\", \"die\", \"director\", \"dog\", \"dollar\", \"donor\", \"door\", \"drive\", \"dump\", \"early\", \"earthquake\", \"economic\", \"effect\", \"elect\", \"election\", \"election\", \"election\", \"election\", \"election\", \"election\", \"election\", \"email\", \"email\", \"employee\", \"end\", \"end\", \"endorse\", \"era\", \"ethic\", \"even\", \"evening_briefing\", \"evidence\", \"exclusive\", \"exclusive\", \"expect\", \"expert\", \"explain\", \"expose\", \"face\", \"face\", \"facebook\", \"fact\", \"fail\", \"fake\", \"fake_news\", \"fake_news\", \"fall\", \"family\", \"family\", \"family\", \"far\", \"fear\", \"fear\", \"federal\", \"feel\", \"female\", \"fight\", \"fight\", \"fight\", \"fight\", \"file\", \"find\", \"find\", \"find\", \"fire\", \"fire\", \"fire\", \"first\", \"fix\", \"follow\", \"force\", \"force\", \"force\", \"force\", \"foreign_policy\", \"forget\", \"former\", \"former\", \"fraud\", \"free\", \"friend\", \"front\", \"full\", \"future\", \"game\", \"get\", \"get\", \"get\", \"get\", \"girl\", \"girl\", \"global\", \"go\", \"goal\", \"good\", \"good\", \"good\", \"government\", \"government\", \"great\", \"group\", \"group\", \"grow\", \"hack\", \"hand\", \"happen\", \"happen\", \"hate\", \"hate\", \"head\", \"head\", \"health\", \"health\", \"health\", \"health_care\", \"help\", \"help\", \"help\", \"high\", \"high\", \"history\", \"hit\", \"hit\", \"hold\", \"hold\", \"hold\", \"hollywood\", \"home\", \"home\", \"home\", \"honor\", \"hope\", \"host\", \"house\", \"human\", \"human\", \"ignore\", \"illegal_alien\", \"inauguration\", \"include\", \"increase\", \"information\", \"inmate\", \"intelligence\", \"interview\", \"investigate\", \"investigation\", \"iraqi\", \"isis\", \"islamic_state\", \"issue\", \"jail\", \"jewish\", \"journalist\", \"judge\", \"keep\", \"keep\", \"key\", \"kill\", \"kill\", \"know\", \"land\", \"large\", \"last\", \"last\", \"launch\", \"law\", \"law\", \"law\", \"lawyer\", \"lead\", \"lead\", \"leak\", \"leak\", \"learn\", \"leave\", \"leave\", \"leave\", \"leave\", \"leave\", \"legal\", \"less\", \"let\", \"letter\", \"liberal\", \"lie\", \"life\", \"light\", \"link\", \"little\", \"live\", \"long\", \"look\", \"look\", \"lose\", \"lose\", \"low\", \"major\", \"major\", \"make\", \"make\", \"make\", \"make\", \"make\", \"make\", \"make\", \"man\", \"man\", \"man\", \"man\", \"man\", \"many\", \"mean\", \"medium\", \"medium\", \"medium\", \"medium\", \"member\", \"migrant\", \"migrant\", \"migrant\", \"military\", \"million\", \"minute\", \"miss\", \"missile\", \"moment\", \"money\", \"money\", \"mosul\", \"mother\", \"move\", \"move\", \"much\", \"murder\", \"name\", \"name\", \"nation\", \"nation\", \"national\", \"nearly\", \"need\", \"need\", \"need\", \"new\", \"new\", \"new\", \"new\", \"new\", \"new\", \"new\", \"news\", \"news\", \"news\", \"next\", \"night\", \"nuclear\", \"obama\", \"obama\", \"obamacare\", \"obamacare\", \"office\", \"officer\", \"official\", \"official\", \"official\", \"oil\", \"open\", \"operation\", \"oppose\", \"order\", \"order\", \"party\", \"party\", \"party\", \"party\", \"pass\", \"path\", \"pay\", \"pay\", \"pay\", \"people\", \"people\", \"people\", \"people\", \"people\", \"people\", \"percent\", \"photo\", \"pick\", \"picture\", \"place\", \"plan\", \"plan\", \"plan\", \"plan\", \"play\", \"police\", \"police\", \"police\", \"policy\", \"politic\", \"political\", \"political\", \"poll\", \"possible\", \"post\", \"post\", \"potential\", \"power\", \"powerful\", \"praise\", \"prepare\", \"prepare\", \"presidency\", \"president\", \"presidential\", \"price\", \"pro\", \"probe\", \"problem\", \"problem\", \"promise\", \"promote\", \"protest\", \"protest\", \"protester\", \"prove\", \"public\", \"push\", \"push\", \"put\", \"put\", \"question\", \"race\", \"race\", \"radio\", \"raise\", \"rape\", \"rate\", \"reach\", \"read\", \"ready\", \"real\", \"real\", \"real\", \"real\", \"realize\", \"really\", \"reason\", \"red\", \"refugee\", \"reject\", \"release\", \"release\", \"remove\", \"repeal\", \"replace\", \"report\", \"report\", \"report\", \"report\", \"reporter\", \"resistance\", \"result\", \"reveal\", \"reveal\", \"review\", \"review\", \"rig\", \"rig\", \"right\", \"right\", \"rise\", \"root\", \"rule\", \"rule\", \"run\", \"run\", \"saudi\", \"save\", \"say\", \"say\", \"say\", \"say\", \"say\", \"say\", \"scandal\", \"secret\", \"secret\", \"security\", \"see\", \"see\", \"see\", \"see\", \"see\", \"seek\", \"seek\", \"sell\", \"set\", \"set\", \"sex\", \"shock\", \"shoot\", \"shoot\", \"show\", \"show\", \"show\", \"show\", \"show\", \"show\", \"sign\", \"sign\", \"sleep\", \"soldier\", \"space\", \"speak\", \"speech\", \"sport\", \"spy\", \"stage\", \"star\", \"start\", \"state\", \"state\", \"state\", \"state\", \"state\", \"state\", \"steal\", \"steal\", \"steal\", \"stop\", \"story\", \"strike\", \"strike\", \"student\", \"student\", \"student\", \"study\", \"supporter\", \"sweden\", \"syrian\", \"take\", \"take\", \"take\", \"take\", \"take\", \"take\", \"talk\", \"talk\", \"target\", \"team\", \"tell\", \"term\", \"terror\", \"terrorism\", \"test\", \"test\", \"thank\", \"think\", \"think\", \"thousand\", \"threat\", \"threaten\", \"threaten\", \"time\", \"time\", \"time\", \"time\", \"time\", \"today\", \"top\", \"top\", \"top\", \"top\", \"top\", \"town\", \"trade\", \"trial\", \"trip\", \"troop\", \"truck\", \"trump\", \"trump\", \"trust\", \"truth\", \"truth\", \"turn\", \"tweet\", \"urge\", \"veteran\", \"victory\", \"video\", \"video\", \"video\", \"video\", \"video\", \"video\", \"violate\", \"violence\", \"violence\", \"vote\", \"vote\", \"voter\", \"voting\", \"vow\", \"want\", \"war\", \"war\", \"warn\", \"watch\", \"watch\", \"watch\", \"watch\", \"watch\", \"way\", \"way\", \"way\", \"week\", \"week\", \"well\", \"white\", \"white\", \"wikileak\", \"win\", \"win\", \"woman\", \"woman\", \"woman\", \"woman\", \"woman\", \"woman\", \"woman\", \"worker\", \"world\", \"world\", \"world\", \"world\", \"world\", \"world\", \"world\", \"write\", \"wrong\", \"year\", \"year\", \"year\", \"year\", \"year_old\"]}, \"R\": 30, \"lambda.step\": 0.01, \"plot.opts\": {\"xlab\": \"PC1\", \"ylab\": \"PC2\"}, \"topic.order\": [10, 2, 9, 6, 8, 5, 3, 4, 1, 7]};\n",
       "\n",
       "function LDAvis_load_lib(url, callback){\n",
       "  var s = document.createElement('script');\n",
       "  s.src = url;\n",
       "  s.async = true;\n",
       "  s.onreadystatechange = s.onload = callback;\n",
       "  s.onerror = function(){console.warn(\"failed to load library \" + url);};\n",
       "  document.getElementsByTagName(\"head\")[0].appendChild(s);\n",
       "}\n",
       "\n",
       "if(typeof(LDAvis) !== \"undefined\"){\n",
       "   // already loaded: just create the visualization\n",
       "   !function(LDAvis){\n",
       "       new LDAvis(\"#\" + \"ldavis_el2601399081366904967104993490\", ldavis_el2601399081366904967104993490_data);\n",
       "   }(LDAvis);\n",
       "}else if(typeof define === \"function\" && define.amd){\n",
       "   // require.js is available: use it to load d3/LDAvis\n",
       "   require.config({paths: {d3: \"https://d3js.org/d3.v5\"}});\n",
       "   require([\"d3\"], function(d3){\n",
       "      window.d3 = d3;\n",
       "      LDAvis_load_lib(\"https://cdn.jsdelivr.net/gh/bmabey/pyLDAvis@3.4.0/pyLDAvis/js/ldavis.v3.0.0.js\", function(){\n",
       "        new LDAvis(\"#\" + \"ldavis_el2601399081366904967104993490\", ldavis_el2601399081366904967104993490_data);\n",
       "      });\n",
       "    });\n",
       "}else{\n",
       "    // require.js not available: dynamically load d3 & LDAvis\n",
       "    LDAvis_load_lib(\"https://d3js.org/d3.v5.js\", function(){\n",
       "         LDAvis_load_lib(\"https://cdn.jsdelivr.net/gh/bmabey/pyLDAvis@3.4.0/pyLDAvis/js/ldavis.v3.0.0.js\", function(){\n",
       "                 new LDAvis(\"#\" + \"ldavis_el2601399081366904967104993490\", ldavis_el2601399081366904967104993490_data);\n",
       "            })\n",
       "         });\n",
       "}\n",
       "</script>"
      ],
      "text/plain": [
       "<IPython.core.display.HTML object>"
      ]
     },
     "execution_count": 18,
     "metadata": {},
     "output_type": "execute_result"
    }
   ],
   "source": [
    "import pyLDAvis\n",
    "import pyLDAvis.gensim_models as gensimvis\n",
    "\n",
    "pyLDAvis.enable_notebook()\n",
    "lda_vis = gensimvis.prepare(lda_model, corpus, dictionary)\n",
    "pyLDAvis.display(lda_vis)\n"
   ]
  },
  {
   "cell_type": "code",
   "execution_count": 19,
   "id": "2554d58f-b9e2-4e3b-9e70-9571b1be9492",
   "metadata": {},
   "outputs": [
    {
     "name": "stdout",
     "output_type": "stream",
     "text": [
      "Representative Fake News Texts: [(['comment', 'community', 'outraged', 'video', 'show', 'cop', 'throw', '16yo', 'girl', 'ibcamn'], 0.9181546), (['life', 'find', 'common_ground', 'white', 'man', 'muslim', 'woman', 'trump', 'paint', 'garage'], 0.91813624), (['minsk', 'meeting', 'hold', 'determine', 'status', 'donetsk', 'lugansk', 'expect', 'much', 'news'], 0.91811943), (['watch', 'exact', 'moment', 'commit', 'political', 'suicide', 'trump', 'rally', 'video'], 0.90997213), (['want', 'drug', 'baron', 'hand', 'say', 'life', 'run', 'get', 'much'], 0.9099698)]\n",
      "Representative Real News Texts: [(['france', 'martel', 'teen', 'vogue', 'trump', 'support', 'oppress', 'latinos', 'big', 'change'], 0.91813487), (['review', 'lion', 'bring', 'tear', 'lose', 'boy', 'wipe', 'dry'], 0.8999308), (['castile', 'pull', 'time', 'year', 'often', 'minor', 'infraction'], 0.8874434), (['see', 'high', 'level', 'satisfaction', 'trump', 'administration'], 0.87141556), (['trump', 'dual', 'role', 'collide', 'opening', 'dubai'], 0.87136793)]\n"
     ]
    }
   ],
   "source": [
    "def get_representative_texts(lda_model, corpus, texts, topic_num, top_n=5):\n",
    "    \"\"\"\n",
    "    Get the most representative texts for a specific topic.\n",
    "    \"\"\"\n",
    "    topic_texts = []\n",
    "    for i, row in enumerate(lda_model[corpus]):\n",
    "        sorted_topics = sorted(row, key=lambda x: x[1], reverse=True)\n",
    "        if sorted_topics[0][0] == topic_num:\n",
    "            topic_texts.append((texts[i], sorted_topics[0][1]))\n",
    "    return sorted(topic_texts, key=lambda x: x[1], reverse=True)[:top_n]\n",
    "\n",
    "# Example usage\n",
    "representative_fake_texts = get_representative_texts(fake_lda_model, fake_corpus, fake_texts, topic_num=0)\n",
    "representative_real_texts = get_representative_texts(real_lda_model, real_corpus, real_texts, topic_num=0)\n",
    "print(\"Representative Fake News Texts:\", representative_fake_texts)\n",
    "print(\"Representative Real News Texts:\", representative_real_texts)\n"
   ]
  },
  {
   "cell_type": "code",
   "execution_count": 20,
   "id": "b7eadab1-7668-4477-92b9-3addd802fc02",
   "metadata": {},
   "outputs": [
    {
     "ename": "TypeError",
     "evalue": "type tuple doesn't define __round__ method",
     "output_type": "error",
     "traceback": [
      "\u001b[0;31m---------------------------------------------------------------------------\u001b[0m",
      "\u001b[0;31mTypeError\u001b[0m                                 Traceback (most recent call last)",
      "Cell \u001b[0;32mIn[20], line 3\u001b[0m\n\u001b[1;32m      1\u001b[0m \u001b[38;5;66;03m# Print the coherence scores\u001b[39;00m\n\u001b[1;32m      2\u001b[0m \u001b[38;5;28;01mfor\u001b[39;00m m, cv \u001b[38;5;129;01min\u001b[39;00m \u001b[38;5;28mzip\u001b[39m(x, coherence_values):\n\u001b[0;32m----> 3\u001b[0m     \u001b[38;5;28mprint\u001b[39m(\u001b[38;5;124m\"\u001b[39m\u001b[38;5;124mNum Topics =\u001b[39m\u001b[38;5;124m\"\u001b[39m, m, \u001b[38;5;124m\"\u001b[39m\u001b[38;5;124m has Coherence Value of\u001b[39m\u001b[38;5;124m\"\u001b[39m, \u001b[38;5;28;43mround\u001b[39;49m\u001b[43m(\u001b[49m\u001b[43mcv\u001b[49m\u001b[43m,\u001b[49m\u001b[43m \u001b[49m\u001b[38;5;241;43m4\u001b[39;49m\u001b[43m)\u001b[49m)\n",
      "\u001b[0;31mTypeError\u001b[0m: type tuple doesn't define __round__ method"
     ]
    }
   ],
   "source": [
    "# Print the coherence scores\n",
    "for m, cv in zip(x, coherence_values):\n",
    "    print(\"Num Topics =\", m, \" has Coherence Value of\", round(cv, 4))"
   ]
  },
  {
   "cell_type": "code",
   "execution_count": 21,
   "id": "4e5733d6-790e-4a63-b52c-e0c1e04bfa89",
   "metadata": {
    "scrolled": true
   },
   "outputs": [
    {
     "ename": "NameError",
     "evalue": "name 'model_list' is not defined",
     "output_type": "error",
     "traceback": [
      "\u001b[0;31m---------------------------------------------------------------------------\u001b[0m",
      "\u001b[0;31mNameError\u001b[0m                                 Traceback (most recent call last)",
      "Cell \u001b[0;32mIn[21], line 2\u001b[0m\n\u001b[1;32m      1\u001b[0m optimal_num_topics \u001b[38;5;241m=\u001b[39m \u001b[38;5;241m7\u001b[39m  \u001b[38;5;66;03m# Example: adjust based on your graph\u001b[39;00m\n\u001b[0;32m----> 2\u001b[0m optimal_model \u001b[38;5;241m=\u001b[39m \u001b[43mmodel_list\u001b[49m[x\u001b[38;5;241m.\u001b[39mindex(optimal_num_topics)]\n\u001b[1;32m      3\u001b[0m topics \u001b[38;5;241m=\u001b[39m optimal_model\u001b[38;5;241m.\u001b[39mshow_topics(num_topics\u001b[38;5;241m=\u001b[39moptimal_num_topics, num_words\u001b[38;5;241m=\u001b[39m\u001b[38;5;241m10\u001b[39m, formatted\u001b[38;5;241m=\u001b[39m\u001b[38;5;28;01mFalse\u001b[39;00m)\n\u001b[1;32m      5\u001b[0m \u001b[38;5;28;01mfor\u001b[39;00m topic \u001b[38;5;129;01min\u001b[39;00m topics:\n",
      "\u001b[0;31mNameError\u001b[0m: name 'model_list' is not defined"
     ]
    }
   ],
   "source": [
    "optimal_num_topics = 7  # Example: adjust based on your graph\n",
    "optimal_model = model_list[x.index(optimal_num_topics)]\n",
    "topics = optimal_model.show_topics(num_topics=optimal_num_topics, num_words=10, formatted=False)\n",
    "\n",
    "for topic in topics:\n",
    "    print(f\"Topic {topic[0]}: {', '.join([word[0] for word in topic[1]])}\")"
   ]
  },
  {
   "cell_type": "code",
   "execution_count": 20,
   "id": "aefb8184-d5d5-4654-a337-bad5980a0eb2",
   "metadata": {},
   "outputs": [],
   "source": [
    "texts = news_data['title'].tolist()  # Replace 'title' with the column holding the texts"
   ]
  },
  {
   "cell_type": "code",
   "execution_count": 23,
   "id": "2e0d6819-247e-457e-b94d-63eda1afb582",
   "metadata": {
    "scrolled": true
   },
   "outputs": [
    {
     "ename": "NameError",
     "evalue": "name 'format_topics_sentences' is not defined",
     "output_type": "error",
     "traceback": [
      "\u001b[0;31m---------------------------------------------------------------------------\u001b[0m",
      "\u001b[0;31mNameError\u001b[0m                                 Traceback (most recent call last)",
      "Cell \u001b[0;32mIn[23], line 5\u001b[0m\n\u001b[1;32m      2\u001b[0m texts \u001b[38;5;241m=\u001b[39m news_data[\u001b[38;5;124m'\u001b[39m\u001b[38;5;124mtitle\u001b[39m\u001b[38;5;124m'\u001b[39m]\u001b[38;5;241m.\u001b[39mtolist()  \u001b[38;5;66;03m# Or replace 'title' with the appropriate column name\u001b[39;00m\n\u001b[1;32m      4\u001b[0m \u001b[38;5;66;03m# Apply the function to get the dominant topic for each document\u001b[39;00m\n\u001b[0;32m----> 5\u001b[0m df_topic_sents_keywords \u001b[38;5;241m=\u001b[39m \u001b[43mformat_topics_sentences\u001b[49m(ldamodel\u001b[38;5;241m=\u001b[39moptimal_model, corpus\u001b[38;5;241m=\u001b[39mcorpus, texts\u001b[38;5;241m=\u001b[39mtexts)\n\u001b[1;32m      7\u001b[0m \u001b[38;5;66;03m# Display the top rows of the DataFrame\u001b[39;00m\n\u001b[1;32m      8\u001b[0m df_topic_sents_keywords\u001b[38;5;241m.\u001b[39mhead()\n",
      "\u001b[0;31mNameError\u001b[0m: name 'format_topics_sentences' is not defined"
     ]
    }
   ],
   "source": [
    "# Ensure 'texts' is properly defined as the list of original titles or texts\n",
    "texts = news_data['title'].tolist()  # Or replace 'title' with the appropriate column name\n",
    "\n",
    "# Apply the function to get the dominant topic for each document\n",
    "df_topic_sents_keywords = format_topics_sentences(ldamodel=optimal_model, corpus=corpus, texts=texts)\n",
    "\n",
    "# Display the top rows of the DataFrame\n",
    "df_topic_sents_keywords.head()"
   ]
  },
  {
   "cell_type": "code",
   "execution_count": 21,
   "id": "db3d24f0-0f3d-4093-83aa-2aa83523c0b3",
   "metadata": {},
   "outputs": [
    {
     "name": "stdout",
     "output_type": "stream",
     "text": [
      "Sample Lemmatized Data: [\"['aide', 'even', 'see', 'tweet']\", \"['woman', 'campus', 'breitbart']\"]\n"
     ]
    }
   ],
   "source": [
    "# Extract lemmatized titles as a list of tokenized texts\n",
    "data_lemmatized = news_data['processed_title'].tolist()\n",
    "\n",
    "# Ensure it's in the right format (list of lists of tokens)\n",
    "print(f\"Sample Lemmatized Data: {data_lemmatized[:2]}\")"
   ]
  },
  {
   "cell_type": "code",
   "execution_count": 22,
   "id": "80e08644-ab51-44ba-9e5a-3a1834977117",
   "metadata": {},
   "outputs": [
    {
     "name": "stdout",
     "output_type": "stream",
     "text": [
      "Sample of data_lemmatized: [\"['aide', 'even', 'see', 'tweet']\", \"['woman', 'campus', 'breitbart']\", \"['truth', 'get', 'fire']\"]\n"
     ]
    }
   ],
   "source": [
    "print(f\"Sample of data_lemmatized: {data_lemmatized[:3]}\")"
   ]
  },
  {
   "cell_type": "code",
   "execution_count": 23,
   "id": "c3d50f69-434d-4766-b21a-04cbd23d6b23",
   "metadata": {},
   "outputs": [
    {
     "name": "stdout",
     "output_type": "stream",
     "text": [
      "Corrected data_lemmatized: [[\"['aide',\", \"'even',\", \"'see',\", \"'tweet']\"], [\"['woman',\", \"'campus',\", \"'breitbart']\"], [\"['truth',\", \"'get',\", \"'fire']\"]]\n"
     ]
    }
   ],
   "source": [
    "# Ensure data_lemmatized is a list of lists of tokens\n",
    "if isinstance(data_lemmatized[0], str):\n",
    "    data_lemmatized = [doc.split() for doc in data_lemmatized]\n",
    "\n",
    "print(f\"Corrected data_lemmatized: {data_lemmatized[:3]}\")"
   ]
  },
  {
   "cell_type": "code",
   "execution_count": 24,
   "id": "9da90f0e-3797-4b96-b23c-1a505ef76e24",
   "metadata": {},
   "outputs": [
    {
     "name": "stdout",
     "output_type": "stream",
     "text": [
      "Sample Corpus: [[(0, 1), (1, 1), (2, 1), (3, 1)]]\n",
      "Dictionary Sample: [(0, \"'even',\"), (1, \"'see',\"), (2, \"'tweet']\"), (3, \"['aide',\"), (4, \"'breitbart']\"), (5, \"'campus',\"), (6, \"['woman',\"), (7, \"'fire']\"), (8, \"'get',\"), (9, \"['truth',\")]\n"
     ]
    }
   ],
   "source": [
    "# Create Dictionary\n",
    "id2word = corpora.Dictionary(data_lemmatized)\n",
    "\n",
    "# Create Corpus: Term Document Frequency\n",
    "corpus = [id2word.doc2bow(text) for text in data_lemmatized]\n",
    "\n",
    "# Verify the output\n",
    "print(f\"Sample Corpus: {corpus[:1]}\")\n",
    "print(f\"Dictionary Sample: {list(id2word.items())[:10]}\")"
   ]
  },
  {
   "cell_type": "code",
   "execution_count": 25,
   "id": "1baad793-3b3d-47ad-aab9-8ead0c0a44e1",
   "metadata": {},
   "outputs": [
    {
     "name": "stdout",
     "output_type": "stream",
     "text": [
      "Sample Corpus: [[(0, 1), (1, 1), (2, 1), (3, 1)]]\n",
      "Dictionary Sample: [(0, \"'even',\"), (1, \"'see',\"), (2, \"'tweet']\"), (3, \"['aide',\"), (4, \"'breitbart']\"), (5, \"'campus',\"), (6, \"['woman',\"), (7, \"'fire']\"), (8, \"'get',\"), (9, \"['truth',\")]\n"
     ]
    }
   ],
   "source": [
    "from gensim import corpora\n",
    "\n",
    "# Create Dictionary\n",
    "id2word = corpora.Dictionary(data_lemmatized)\n",
    "\n",
    "# Create Corpus: Term Document Frequency\n",
    "corpus = [id2word.doc2bow(text) for text in data_lemmatized]\n",
    "\n",
    "# Print samples to verify\n",
    "print(f\"Sample Corpus: {corpus[:1]}\")\n",
    "print(f\"Dictionary Sample: {list(id2word.items())[:10]}\")"
   ]
  },
  {
   "cell_type": "code",
   "execution_count": 26,
   "id": "7c17b058-bb8c-4db1-acab-d7fa79f71b83",
   "metadata": {},
   "outputs": [
    {
     "name": "stdout",
     "output_type": "stream",
     "text": [
      "Coherence Score for 3 Topics: 0.3737262753673523\n"
     ]
    },
    {
     "data": {
      "text/plain": [
       "[(0,\n",
       "  [(\"['comment',\", 0.009620619),\n",
       "   (\"'email',\", 0.007036948),\n",
       "   (\"'police',\", 0.006759553),\n",
       "   (\"'get',\", 0.006583619),\n",
       "   (\"'kill',\", 0.006546286),\n",
       "   (\"'show',\", 0.006403214),\n",
       "   (\"'say']\", 0.0056400704),\n",
       "   (\"'year',\", 0.004689519),\n",
       "   (\"'go',\", 0.004293015),\n",
       "   (\"'child',\", 0.003985449)]),\n",
       " (1,\n",
       "  [(\"['trump',\", 0.024956845),\n",
       "   (\"'new',\", 0.010255162),\n",
       "   (\"'say',\", 0.008279119),\n",
       "   (\"'campaign',\", 0.0066323252),\n",
       "   (\"'time',\", 0.0050517926),\n",
       "   (\"'first',\", 0.0048056156),\n",
       "   (\"'woman',\", 0.004439967),\n",
       "   (\"'man',\", 0.004265376),\n",
       "   (\"'video']\", 0.004212472),\n",
       "   (\"['watch',\", 0.00412131)]),\n",
       " (2,\n",
       "  [(\"'trump',\", 0.037252128),\n",
       "   (\"'breitbart']\", 0.02398761),\n",
       "   ('[]', 0.014020111),\n",
       "   (\"'election',\", 0.0077525303),\n",
       "   (\"'call',\", 0.006327559),\n",
       "   (\"'trump']\", 0.006292456),\n",
       "   (\"'report',\", 0.0051631653),\n",
       "   (\"'vote',\", 0.004911159),\n",
       "   (\"['say',\", 0.0047264555),\n",
       "   (\"'day',\", 0.0045842864)])]"
      ]
     },
     "execution_count": 26,
     "metadata": {},
     "output_type": "execute_result"
    }
   ],
   "source": [
    "from gensim.models import CoherenceModel\n",
    "\n",
    "# Define the number of topics\n",
    "small_num_topics = 3\n",
    "\n",
    "# Train LDA model with 3 topics\n",
    "lda_small = gensim.models.LdaModel(corpus=corpus,\n",
    "                                   id2word=id2word,\n",
    "                                   num_topics=small_num_topics,\n",
    "                                   random_state=100,\n",
    "                                   update_every=1,\n",
    "                                   chunksize=100,\n",
    "                                   passes=10,\n",
    "                                   alpha='auto',\n",
    "                                   per_word_topics=True)\n",
    "\n",
    "# Compute coherence score\n",
    "coherence_model_small = CoherenceModel(model=lda_small, texts=data_lemmatized, dictionary=id2word, coherence='c_v')\n",
    "coherence_small = coherence_model_small.get_coherence()\n",
    "\n",
    "# Print results\n",
    "print(f\"Coherence Score for 3 Topics: {coherence_small}\")\n",
    "lda_small.show_topics(formatted=False)"
   ]
  },
  {
   "cell_type": "code",
   "execution_count": null,
   "id": "fb686859-5ade-4b40-9ebf-186e50f6a72b",
   "metadata": {},
   "outputs": [
    {
     "name": "stderr",
     "output_type": "stream",
     "text": [
      "/opt/conda/lib/python3.11/site-packages/gensim/models/ldamodel.py:850: RuntimeWarning: overflow encountered in exp2\n",
      "  perwordbound, np.exp2(-perwordbound), len(chunk), corpus_words\n"
     ]
    }
   ],
   "source": [
    "# Define the number of topics\n",
    "large_num_topics = 1000\n",
    "\n",
    "# Train LDA model with 1000 topics\n",
    "lda_large = gensim.models.LdaModel(corpus=corpus,\n",
    "                                   id2word=id2word,\n",
    "                                   num_topics=large_num_topics,\n",
    "                                   random_state=100,\n",
    "                                   update_every=1,\n",
    "                                   chunksize=100,\n",
    "                                   passes=10,\n",
    "                                   alpha='auto',\n",
    "                                   per_word_topics=True)\n",
    "\n",
    "# Compute coherence score\n",
    "coherence_model_large = CoherenceModel(model=lda_large, texts=data_lemmatized, dictionary=id2word, coherence='c_v')\n",
    "coherence_large = coherence_model_large.get_coherence()\n",
    "\n",
    "# Print results\n",
    "print(f\"Coherence Score for 1000 Topics: {coherence_large}\")\n",
    "lda_large.show_topics(formatted=False)\n"
   ]
  },
  {
   "cell_type": "code",
   "execution_count": null,
   "id": "c32068e0-a116-4ffe-9205-9960f81d13a7",
   "metadata": {},
   "outputs": [],
   "source": [
    "# Function to calculate coherence values for a range of topics\n",
    "from gensim.models import CoherenceModel\n",
    "import matplotlib.pyplot as plt\n",
    "\n",
    "def compute_coherence_values(dictionary, corpus, texts, start, limit, step):\n",
    "    coherence_values = []\n",
    "    model_list = []\n",
    "    for num_topics in range(start, limit, step):\n",
    "        model = gensim.models.LdaModel(corpus=corpus,\n",
    "                                       id2word=dictionary,\n",
    "                                       num_topics=num_topics,\n",
    "                                       random_state=100,\n",
    "                                       update_every=1,\n",
    "                                       chunksize=100,\n",
    "                                       passes=10,\n",
    "                                       alpha='auto',\n",
    "                                       per_word_topics=True)\n",
    "        model_list.append(model)\n",
    "        coherencemodel = CoherenceModel(model=model, texts=texts, dictionary=dictionary, coherence='c_v')\n",
    "        coherence_values.append(coherencemodel.get_coherence())\n",
    "\n",
    "    return model_list, coherence_values\n",
    "\n",
    "# Run the function for a range of topics\n",
    "start = 2\n",
    "limit = 40\n",
    "step = 2\n",
    "model_list, coherence_values = compute_coherence_values(dictionary=id2word, \n",
    "                                                        corpus=corpus, \n",
    "                                                        texts=data_lemmatized, \n",
    "                                                        start=start, \n",
    "                                                        limit=limit, \n",
    "                                                        step=step)\n",
    "\n",
    "# Plot the coherence scores\n",
    "x = range(start, limit, step)\n",
    "plt.plot(x, coherence_values)\n",
    "plt.xlabel(\"Number of Topics\")\n",
    "plt.ylabel(\"Coherence Score\")\n",
    "plt.title(\"Optimal Number of Topics\")\n",
    "plt.show()\n"
   ]
  },
  {
   "cell_type": "code",
   "execution_count": null,
   "id": "aab594a7-fd30-4fd1-b325-5aded50076ee",
   "metadata": {},
   "outputs": [],
   "source": [
    "# Split the data\n",
    "fake_news = news_data[news_data['label'] == 'Fake']\n",
    "real_news = news_data[news_data['label'] == 'Real']\n",
    "\n",
    "# Preprocess the titles for each subset\n",
    "fake_titles = [preprocess_title(title) for title in fake_news['title']]\n",
    "real_titles = [preprocess_title(title) for title in real_news['title']]\n",
    "\n",
    "# Create dictionaries and corpora for each subset\n",
    "fake_id2word = corpora.Dictionary(fake_titles)\n",
    "fake_corpus = [fake_id2word.doc2bow(text) for text in fake_titles]\n",
    "\n",
    "real_id2word = corpora.Dictionary(real_titles)\n",
    "real_corpus = [real_id2word.doc2bow(text) for text in real_titles]\n",
    "\n",
    "# Train LDA models for each subset\n",
    "fake_lda = gensim.models.LdaModel(corpus=fake_corpus,\n",
    "                                  id2word=fake_id2word,\n",
    "                                  num_topics=optimal_num_topics,\n",
    "                                  random_state=100,\n",
    "                                  update_every=1,\n",
    "                                  chunksize=100,\n",
    "                                  passes=10,\n",
    "                                  alpha='auto',\n",
    "                                  per_word_topics=True)\n",
    "\n",
    "real_lda = gensim.models.LdaModel(corpus=real_corpus,\n",
    "                                  id2word=real_id2word,\n",
    "                                  num_topics=optimal_num_topics,\n",
    "                                  random_state=100,\n",
    "                                  update_every=1,\n",
    "                                  chunksize=100,\n",
    "                                  passes=10,\n",
    "                                  alpha='auto',\n",
    "                                  per_word_topics=True)\n",
    "\n",
    "# Compare topic keywords\n",
    "print(\"Fake News Topics:\")\n",
    "print(fake_lda.print_topics())\n",
    "\n",
    "print(\"\\nReal News Topics:\")\n",
    "print(real_lda.print_topics())\n"
   ]
  },
  {
   "cell_type": "code",
   "execution_count": null,
   "id": "f2f5c839-2a1e-45fc-a731-17606c54bdcc",
   "metadata": {},
   "outputs": [],
   "source": [
    "# Format dominant topics for titles\n",
    "df_topic_sents_keywords = format_topics_sentences(ldamodel=optimal_model, \n",
    "                                                   corpus=corpus, \n",
    "                                                   texts=data_lemmatized)\n",
    "\n",
    "# Format the DataFrame for readability\n",
    "df_dominant_topic = df_topic_sents_keywords.reset_index()\n",
    "df_dominant_topic.columns = ['Document_No', 'Dominant_Topic', 'Topic_Perc_Contrib', 'Keywords', 'Text']\n",
    "\n",
    "# Display representative examples for each topic\n",
    "for topic_num in range(optimal_num_topics):\n",
    "    print(f\"\\nTopic {topic_num}:\")\n",
    "    print(df_dominant_topic[df_dominant_topic['Dominant_Topic'] == topic_num].head(3))\n"
   ]
  },
  {
   "cell_type": "code",
   "execution_count": null,
   "id": "ef61ae56-a77b-4e4e-9d7b-cb68bb50aee8",
   "metadata": {},
   "outputs": [],
   "source": [
    "print(\"Fake News Data Sample:\")\n",
    "print(fake_news.head())\n",
    "\n",
    "print(\"\\nReal News Data Sample:\")\n",
    "print(real_news.head())"
   ]
  },
  {
   "cell_type": "code",
   "execution_count": null,
   "id": "4e84e7e4-fead-4335-b5b8-3de584522dac",
   "metadata": {},
   "outputs": [],
   "source": []
  }
 ],
 "metadata": {
  "kernelspec": {
   "display_name": "Python 3 (ipykernel)",
   "language": "python",
   "name": "python3"
  },
  "language_info": {
   "codemirror_mode": {
    "name": "ipython",
    "version": 3
   },
   "file_extension": ".py",
   "mimetype": "text/x-python",
   "name": "python",
   "nbconvert_exporter": "python",
   "pygments_lexer": "ipython3",
   "version": "3.11.6"
  }
 },
 "nbformat": 4,
 "nbformat_minor": 5
}
